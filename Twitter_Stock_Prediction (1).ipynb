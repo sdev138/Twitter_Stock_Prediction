{
  "nbformat": 4,
  "nbformat_minor": 2,
  "metadata": {
    "colab": {
      "name": "Twitter_Stock_Prediction.ipynb",
      "provenance": []
    },
    "kernelspec": {
      "display_name": "Python 3",
      "name": "python3"
    },
    "language_info": {
      "name": "python"
    }
  },
  "cells": [
    {
      "cell_type": "code",
      "execution_count": null,
      "source": [
        "import requests\n",
        "import pandas as pd\n",
        "import time\n",
        "import regex as re\n",
        "from datetime import datetime, timedelta\n",
        "import numpy as np \n",
        "import pandas as pd \n",
        "import tweepy \n",
        "import json\n",
        "import nltk"
      ],
      "outputs": [],
      "metadata": {
        "id": "M2fwoMUtSlMN"
      }
    },
    {
      "cell_type": "code",
      "execution_count": null,
      "source": [
        "def get_data(tweet):\n",
        "    data = {\n",
        "        'id': tweet['id'],\n",
        "        'created_at': tweet['created_at'],\n",
        "        'text': tweet['text'],\n",
        "        'retweet_count': tweet['public_metrics']['retweet_count'],\n",
        "        'like_count': tweet['public_metrics']['like_count'],\n",
        "        'reply_count': tweet['public_metrics']['reply_count']\n",
        "#        'quote_count': tweet['public_metrics']['quote_count']\n",
        "    }\n",
        "    return data"
      ],
      "outputs": [],
      "metadata": {
        "id": "428FwvElSrZZ"
      }
    },
    {
      "cell_type": "code",
      "execution_count": null,
      "source": [
        "whitespace = re.compile(r\"\\s+\")\n",
        "web_address = re.compile(r\"(?i)http(s):\\/\\/[a-z0-9.~_\\-\\/]+\")\n",
        "tesla = re.compile(r\"(?i)@Tesla(?=\\b)\")\n",
        "user = re.compile(r\"(?i)@[a-z0-9_]+\")"
      ],
      "outputs": [],
      "metadata": {
        "id": "ZVbMZyqYSrb0"
      }
    },
    {
      "cell_type": "code",
      "execution_count": null,
      "source": [
        "#------------------------------------- Twitter Pull  --------------------------------------------------------\n",
        "\n",
        "# setup the API request\n",
        "endpoint = 'https://api.twitter.com/2/tweets/search/recent'  # 'https://api.twitter.com/2/tweets/search/all'\n",
        "headers = {'Authorization': 'Bearer (Bearer Token)'}\n",
        "params = {\n",
        "    'query': '(tesla OR tsla OR elon musk and -spacex -is:retweet) (lang:en)', # \n",
        "    'max_results': '100',\n",
        "    'tweet.fields': 'created_at,lang,public_metrics'\n",
        "        }"
      ],
      "outputs": [],
      "metadata": {
        "id": "96OZATI9Sred"
      }
    },
    {
      "cell_type": "code",
      "execution_count": null,
      "source": [
        "dtformat = '%Y-%m-%dT%H:%M:%SZ'  # the date format string required by twitter\n",
        "\n",
        "# we use this function to subtract 60 mins from our datetime string\n",
        "def time_travel(now, mins):\n",
        "    now = datetime.strptime(now, dtformat)\n",
        "    back_in_time = now - timedelta(minutes=mins)\n",
        "    return back_in_time.strftime(dtformat)"
      ],
      "outputs": [],
      "metadata": {
        "id": "QUTv06pCSrhC"
      }
    },
    {
      "cell_type": "code",
      "execution_count": null,
      "source": [
        "now = datetime.now()  # get the current datetime, this is our starting point\n",
        "last_week = now - timedelta(days=6)  # datetime one week ago = the finish line\n",
        "now = now.strftime(dtformat)  # convert now datetime to format for API\n",
        "now"
      ],
      "outputs": [
        {
          "output_type": "execute_result",
          "data": {
            "application/vnd.google.colaboratory.intrinsic+json": {
              "type": "string"
            },
            "text/plain": [
              "'2021-12-01T07:36:58Z'"
            ]
          },
          "metadata": {},
          "execution_count": 6
        }
      ],
      "metadata": {
        "colab": {
          "base_uri": "https://localhost:8080/",
          "height": 35
        },
        "id": "VhhgOCv0Srjr",
        "outputId": "5e7d114a-3e48-4286-f80b-0f73d01144eb"
      }
    },
    {
      "cell_type": "code",
      "execution_count": null,
      "source": [
        "consumer_key = ''\n",
        "consumer_secret = ''\n",
        "access_token = ''\n",
        "access_secret = ''"
      ],
      "outputs": [],
      "metadata": {
        "id": "HP1HmtxnlzJ7"
      }
    },
    {
      "cell_type": "code",
      "execution_count": null,
      "source": [
        "auth = tweepy.OAuthHandler(consumer_key, consumer_secret)\n"
      ],
      "outputs": [],
      "metadata": {
        "id": "Iip_oON9ly-z"
      }
    },
    {
      "cell_type": "code",
      "execution_count": null,
      "source": [
        "auth.set_access_token(access_token, access_secret)\n"
      ],
      "outputs": [],
      "metadata": {
        "id": "Zja5zf3JcmTN"
      }
    },
    {
      "cell_type": "code",
      "execution_count": null,
      "source": [
        "api = tweepy.API(auth, wait_on_rate_limit=True, wait_on_rate_limit_notify=True)\n"
      ],
      "outputs": [],
      "metadata": {
        "id": "zl113sa6cmPI"
      }
    },
    {
      "cell_type": "code",
      "execution_count": null,
      "source": [
        "last_20_tweets_of_ElonMusk = api.user_timeline('elonmusk')\n",
        "\n"
      ],
      "outputs": [],
      "metadata": {
        "id": "WGM_I_LacmM_"
      }
    },
    {
      "cell_type": "code",
      "execution_count": null,
      "source": [
        "my_list_of_dicts = []\n",
        "for each_json_tweet in last_20_tweets_of_ElonMusk:\n",
        "    my_list_of_dicts.append(each_json_tweet._json)"
      ],
      "outputs": [],
      "metadata": {
        "id": "KJgHkYotcmKY"
      }
    },
    {
      "cell_type": "code",
      "execution_count": null,
      "source": [
        "with open('tweet_json_Elon.txt', 'w') as file:\n",
        "        file.write(json.dumps(my_list_of_dicts, indent=4))"
      ],
      "outputs": [],
      "metadata": {
        "id": "1OnsZ4BOcmHy"
      }
    },
    {
      "cell_type": "code",
      "execution_count": null,
      "source": [
        "my_demo_list = []\n",
        "with open('tweet_json_Elon.txt', encoding='utf-8') as json_file:  \n",
        "    all_data = json.load(json_file)\n",
        "    for each_dictionary in all_data:\n",
        "        tweet_id = each_dictionary['id']\n",
        "        text = each_dictionary['text']\n",
        "        favorite_count = each_dictionary['favorite_count']\n",
        "        retweet_count = each_dictionary['retweet_count']\n",
        "        created_at = each_dictionary['created_at']\n",
        "        my_demo_list.append({'tweet_id': str(tweet_id),\n",
        "                             'text': str(text),\n",
        "                             'favorite_count': int(favorite_count),\n",
        "                             'retweet_count': int(retweet_count),\n",
        "                             'created_at': created_at,\n",
        "                            })\n",
        "        #print(my_demo_list)\n",
        "        tweet_json = pd.DataFrame(my_demo_list, columns = \n",
        "                                  ['tweet_id', 'text', \n",
        "                                   'favorite_count', 'retweet_count', \n",
        "                                   'created_at'])"
      ],
      "outputs": [],
      "metadata": {
        "id": "MwLsTv7ncmDU"
      }
    },
    {
      "cell_type": "code",
      "execution_count": null,
      "source": [
        "api = tweepy.API(auth)\n",
        "\n",
        "results = api.search(q='cheese', count=100)\n",
        "\n",
        "json_data = [r._json for r in results]\n",
        "\n",
        "df = pd.json_normalize(json_data)"
      ],
      "outputs": [],
      "metadata": {
        "id": "LGKyuopgcleq"
      }
    },
    {
      "cell_type": "code",
      "execution_count": null,
      "source": [
        "df"
      ],
      "outputs": [
        {
          "output_type": "execute_result",
          "data": {
            "text/html": [
              "<div>\n",
              "<style scoped>\n",
              "    .dataframe tbody tr th:only-of-type {\n",
              "        vertical-align: middle;\n",
              "    }\n",
              "\n",
              "    .dataframe tbody tr th {\n",
              "        vertical-align: top;\n",
              "    }\n",
              "\n",
              "    .dataframe thead th {\n",
              "        text-align: right;\n",
              "    }\n",
              "</style>\n",
              "<table border=\"1\" class=\"dataframe\">\n",
              "  <thead>\n",
              "    <tr style=\"text-align: right;\">\n",
              "      <th></th>\n",
              "      <th>created_at</th>\n",
              "      <th>id</th>\n",
              "      <th>id_str</th>\n",
              "      <th>text</th>\n",
              "      <th>truncated</th>\n",
              "      <th>source</th>\n",
              "      <th>in_reply_to_status_id</th>\n",
              "      <th>in_reply_to_status_id_str</th>\n",
              "      <th>in_reply_to_user_id</th>\n",
              "      <th>in_reply_to_user_id_str</th>\n",
              "      <th>in_reply_to_screen_name</th>\n",
              "      <th>geo</th>\n",
              "      <th>coordinates</th>\n",
              "      <th>place</th>\n",
              "      <th>contributors</th>\n",
              "      <th>is_quote_status</th>\n",
              "      <th>retweet_count</th>\n",
              "      <th>favorite_count</th>\n",
              "      <th>favorited</th>\n",
              "      <th>retweeted</th>\n",
              "      <th>possibly_sensitive</th>\n",
              "      <th>lang</th>\n",
              "      <th>entities.hashtags</th>\n",
              "      <th>entities.symbols</th>\n",
              "      <th>entities.user_mentions</th>\n",
              "      <th>entities.urls</th>\n",
              "      <th>entities.media</th>\n",
              "      <th>extended_entities.media</th>\n",
              "      <th>metadata.result_type</th>\n",
              "      <th>metadata.iso_language_code</th>\n",
              "      <th>user.id</th>\n",
              "      <th>user.id_str</th>\n",
              "      <th>user.name</th>\n",
              "      <th>user.screen_name</th>\n",
              "      <th>user.location</th>\n",
              "      <th>user.description</th>\n",
              "      <th>user.url</th>\n",
              "      <th>user.entities.description.urls</th>\n",
              "      <th>user.protected</th>\n",
              "      <th>user.followers_count</th>\n",
              "      <th>...</th>\n",
              "      <th>retweeted_status.quoted_status.user.profile_image_url</th>\n",
              "      <th>retweeted_status.quoted_status.user.profile_image_url_https</th>\n",
              "      <th>retweeted_status.quoted_status.user.profile_banner_url</th>\n",
              "      <th>retweeted_status.quoted_status.user.profile_link_color</th>\n",
              "      <th>retweeted_status.quoted_status.user.profile_sidebar_border_color</th>\n",
              "      <th>retweeted_status.quoted_status.user.profile_sidebar_fill_color</th>\n",
              "      <th>retweeted_status.quoted_status.user.profile_text_color</th>\n",
              "      <th>retweeted_status.quoted_status.user.profile_use_background_image</th>\n",
              "      <th>retweeted_status.quoted_status.user.has_extended_profile</th>\n",
              "      <th>retweeted_status.quoted_status.user.default_profile</th>\n",
              "      <th>retweeted_status.quoted_status.user.default_profile_image</th>\n",
              "      <th>retweeted_status.quoted_status.user.following</th>\n",
              "      <th>retweeted_status.quoted_status.user.follow_request_sent</th>\n",
              "      <th>retweeted_status.quoted_status.user.notifications</th>\n",
              "      <th>retweeted_status.quoted_status.user.translator_type</th>\n",
              "      <th>retweeted_status.quoted_status.user.withheld_in_countries</th>\n",
              "      <th>retweeted_status.quoted_status.geo</th>\n",
              "      <th>retweeted_status.quoted_status.coordinates</th>\n",
              "      <th>retweeted_status.quoted_status.place</th>\n",
              "      <th>retweeted_status.quoted_status.contributors</th>\n",
              "      <th>retweeted_status.quoted_status.is_quote_status</th>\n",
              "      <th>retweeted_status.quoted_status.quoted_status_id</th>\n",
              "      <th>retweeted_status.quoted_status.quoted_status_id_str</th>\n",
              "      <th>retweeted_status.quoted_status.retweet_count</th>\n",
              "      <th>retweeted_status.quoted_status.favorite_count</th>\n",
              "      <th>retweeted_status.quoted_status.favorited</th>\n",
              "      <th>retweeted_status.quoted_status.retweeted</th>\n",
              "      <th>retweeted_status.quoted_status.possibly_sensitive</th>\n",
              "      <th>retweeted_status.quoted_status.lang</th>\n",
              "      <th>retweeted_status.quoted_status.user.entities.url.urls</th>\n",
              "      <th>place.id</th>\n",
              "      <th>place.url</th>\n",
              "      <th>place.place_type</th>\n",
              "      <th>place.name</th>\n",
              "      <th>place.full_name</th>\n",
              "      <th>place.country_code</th>\n",
              "      <th>place.country</th>\n",
              "      <th>place.contained_within</th>\n",
              "      <th>place.bounding_box.type</th>\n",
              "      <th>place.bounding_box.coordinates</th>\n",
              "    </tr>\n",
              "  </thead>\n",
              "  <tbody>\n",
              "    <tr>\n",
              "      <th>0</th>\n",
              "      <td>Wed Dec 01 07:36:56 +0000 2021</td>\n",
              "      <td>1465948011305914368</td>\n",
              "      <td>1465948011305914368</td>\n",
              "      <td>RT @hee_bebe__: 희승이 빨머셀카 쭈아!ㅎ https://t.co/LH7...</td>\n",
              "      <td>False</td>\n",
              "      <td>&lt;a href=\"http://twitter.com/download/iphone\" r...</td>\n",
              "      <td>NaN</td>\n",
              "      <td>None</td>\n",
              "      <td>NaN</td>\n",
              "      <td>None</td>\n",
              "      <td>None</td>\n",
              "      <td>None</td>\n",
              "      <td>None</td>\n",
              "      <td>NaN</td>\n",
              "      <td>None</td>\n",
              "      <td>False</td>\n",
              "      <td>18</td>\n",
              "      <td>0</td>\n",
              "      <td>False</td>\n",
              "      <td>False</td>\n",
              "      <td>False</td>\n",
              "      <td>ko</td>\n",
              "      <td>[]</td>\n",
              "      <td>[]</td>\n",
              "      <td>[{'screen_name': 'hee_bebe__', 'name': '희깅', '...</td>\n",
              "      <td>[]</td>\n",
              "      <td>[{'id': 1465940388729204736, 'id_str': '146594...</td>\n",
              "      <td>[{'id': 1465940388729204736, 'id_str': '146594...</td>\n",
              "      <td>recent</td>\n",
              "      <td>ko</td>\n",
              "      <td>1307912511824343040</td>\n",
              "      <td>1307912511824343040</td>\n",
              "      <td>치즈</td>\n",
              "      <td>CHEESE__1015</td>\n",
              "      <td></td>\n",
              "      <td></td>\n",
              "      <td>None</td>\n",
              "      <td>[]</td>\n",
              "      <td>False</td>\n",
              "      <td>4103</td>\n",
              "      <td>...</td>\n",
              "      <td>NaN</td>\n",
              "      <td>NaN</td>\n",
              "      <td>NaN</td>\n",
              "      <td>NaN</td>\n",
              "      <td>NaN</td>\n",
              "      <td>NaN</td>\n",
              "      <td>NaN</td>\n",
              "      <td>NaN</td>\n",
              "      <td>NaN</td>\n",
              "      <td>NaN</td>\n",
              "      <td>NaN</td>\n",
              "      <td>NaN</td>\n",
              "      <td>NaN</td>\n",
              "      <td>NaN</td>\n",
              "      <td>NaN</td>\n",
              "      <td>NaN</td>\n",
              "      <td>NaN</td>\n",
              "      <td>NaN</td>\n",
              "      <td>NaN</td>\n",
              "      <td>NaN</td>\n",
              "      <td>NaN</td>\n",
              "      <td>NaN</td>\n",
              "      <td>NaN</td>\n",
              "      <td>NaN</td>\n",
              "      <td>NaN</td>\n",
              "      <td>NaN</td>\n",
              "      <td>NaN</td>\n",
              "      <td>NaN</td>\n",
              "      <td>NaN</td>\n",
              "      <td>NaN</td>\n",
              "      <td>NaN</td>\n",
              "      <td>NaN</td>\n",
              "      <td>NaN</td>\n",
              "      <td>NaN</td>\n",
              "      <td>NaN</td>\n",
              "      <td>NaN</td>\n",
              "      <td>NaN</td>\n",
              "      <td>NaN</td>\n",
              "      <td>NaN</td>\n",
              "      <td>NaN</td>\n",
              "    </tr>\n",
              "    <tr>\n",
              "      <th>1</th>\n",
              "      <td>Wed Dec 01 07:36:54 +0000 2021</td>\n",
              "      <td>1465948002938277888</td>\n",
              "      <td>1465948002938277888</td>\n",
              "      <td>RT @YoonJoo25602712: 괴도가 애기들 위해서 깜짝 크리스마스 파티를 ...</td>\n",
              "      <td>False</td>\n",
              "      <td>&lt;a href=\"http://twitter.com/download/android\" ...</td>\n",
              "      <td>NaN</td>\n",
              "      <td>None</td>\n",
              "      <td>NaN</td>\n",
              "      <td>None</td>\n",
              "      <td>None</td>\n",
              "      <td>None</td>\n",
              "      <td>None</td>\n",
              "      <td>NaN</td>\n",
              "      <td>None</td>\n",
              "      <td>False</td>\n",
              "      <td>51</td>\n",
              "      <td>0</td>\n",
              "      <td>False</td>\n",
              "      <td>False</td>\n",
              "      <td>False</td>\n",
              "      <td>ko</td>\n",
              "      <td>[]</td>\n",
              "      <td>[]</td>\n",
              "      <td>[{'screen_name': 'YoonJoo25602712', 'name': '💎...</td>\n",
              "      <td>[]</td>\n",
              "      <td>[{'id': 1465651686505345026, 'id_str': '146565...</td>\n",
              "      <td>[{'id': 1465651686505345026, 'id_str': '146565...</td>\n",
              "      <td>recent</td>\n",
              "      <td>ko</td>\n",
              "      <td>1368185378117537792</td>\n",
              "      <td>1368185378117537792</td>\n",
              "      <td>웃음빌런 김블즈</td>\n",
              "      <td>blue_cheese_bz</td>\n",
              "      <td></td>\n",
              "      <td>이상한거 많이 들고오는 잡덕계.들여오는거 불편하시면 블락해주세요/내 그림을 훔쳐가는...</td>\n",
              "      <td>https://t.co/VLFTNnHpeC</td>\n",
              "      <td>[]</td>\n",
              "      <td>False</td>\n",
              "      <td>321</td>\n",
              "      <td>...</td>\n",
              "      <td>NaN</td>\n",
              "      <td>NaN</td>\n",
              "      <td>NaN</td>\n",
              "      <td>NaN</td>\n",
              "      <td>NaN</td>\n",
              "      <td>NaN</td>\n",
              "      <td>NaN</td>\n",
              "      <td>NaN</td>\n",
              "      <td>NaN</td>\n",
              "      <td>NaN</td>\n",
              "      <td>NaN</td>\n",
              "      <td>NaN</td>\n",
              "      <td>NaN</td>\n",
              "      <td>NaN</td>\n",
              "      <td>NaN</td>\n",
              "      <td>NaN</td>\n",
              "      <td>NaN</td>\n",
              "      <td>NaN</td>\n",
              "      <td>NaN</td>\n",
              "      <td>NaN</td>\n",
              "      <td>NaN</td>\n",
              "      <td>NaN</td>\n",
              "      <td>NaN</td>\n",
              "      <td>NaN</td>\n",
              "      <td>NaN</td>\n",
              "      <td>NaN</td>\n",
              "      <td>NaN</td>\n",
              "      <td>NaN</td>\n",
              "      <td>NaN</td>\n",
              "      <td>NaN</td>\n",
              "      <td>NaN</td>\n",
              "      <td>NaN</td>\n",
              "      <td>NaN</td>\n",
              "      <td>NaN</td>\n",
              "      <td>NaN</td>\n",
              "      <td>NaN</td>\n",
              "      <td>NaN</td>\n",
              "      <td>NaN</td>\n",
              "      <td>NaN</td>\n",
              "      <td>NaN</td>\n",
              "    </tr>\n",
              "    <tr>\n",
              "      <th>2</th>\n",
              "      <td>Wed Dec 01 07:36:54 +0000 2021</td>\n",
              "      <td>1465948002342748162</td>\n",
              "      <td>1465948002342748162</td>\n",
              "      <td>@DregsFrolics @JeffreyLuscombe What, you mean ...</td>\n",
              "      <td>False</td>\n",
              "      <td>&lt;a href=\"http://twitter.com/#!/download/ipad\" ...</td>\n",
              "      <td>1.465935e+18</td>\n",
              "      <td>1465935108288880640</td>\n",
              "      <td>50085704.0</td>\n",
              "      <td>50085704</td>\n",
              "      <td>DregsFrolics</td>\n",
              "      <td>None</td>\n",
              "      <td>None</td>\n",
              "      <td>NaN</td>\n",
              "      <td>None</td>\n",
              "      <td>False</td>\n",
              "      <td>0</td>\n",
              "      <td>0</td>\n",
              "      <td>False</td>\n",
              "      <td>False</td>\n",
              "      <td>NaN</td>\n",
              "      <td>en</td>\n",
              "      <td>[]</td>\n",
              "      <td>[]</td>\n",
              "      <td>[{'screen_name': 'DregsFrolics', 'name': 'DanR...</td>\n",
              "      <td>[]</td>\n",
              "      <td>NaN</td>\n",
              "      <td>NaN</td>\n",
              "      <td>recent</td>\n",
              "      <td>en</td>\n",
              "      <td>401515426</td>\n",
              "      <td>401515426</td>\n",
              "      <td>Bee Regebi</td>\n",
              "      <td>JasperBrown4</td>\n",
              "      <td>Unceded K’omoks Territory</td>\n",
              "      <td>Trying to do my part to tackle climate change ...</td>\n",
              "      <td>None</td>\n",
              "      <td>[]</td>\n",
              "      <td>False</td>\n",
              "      <td>1358</td>\n",
              "      <td>...</td>\n",
              "      <td>NaN</td>\n",
              "      <td>NaN</td>\n",
              "      <td>NaN</td>\n",
              "      <td>NaN</td>\n",
              "      <td>NaN</td>\n",
              "      <td>NaN</td>\n",
              "      <td>NaN</td>\n",
              "      <td>NaN</td>\n",
              "      <td>NaN</td>\n",
              "      <td>NaN</td>\n",
              "      <td>NaN</td>\n",
              "      <td>NaN</td>\n",
              "      <td>NaN</td>\n",
              "      <td>NaN</td>\n",
              "      <td>NaN</td>\n",
              "      <td>NaN</td>\n",
              "      <td>NaN</td>\n",
              "      <td>NaN</td>\n",
              "      <td>NaN</td>\n",
              "      <td>NaN</td>\n",
              "      <td>NaN</td>\n",
              "      <td>NaN</td>\n",
              "      <td>NaN</td>\n",
              "      <td>NaN</td>\n",
              "      <td>NaN</td>\n",
              "      <td>NaN</td>\n",
              "      <td>NaN</td>\n",
              "      <td>NaN</td>\n",
              "      <td>NaN</td>\n",
              "      <td>NaN</td>\n",
              "      <td>NaN</td>\n",
              "      <td>NaN</td>\n",
              "      <td>NaN</td>\n",
              "      <td>NaN</td>\n",
              "      <td>NaN</td>\n",
              "      <td>NaN</td>\n",
              "      <td>NaN</td>\n",
              "      <td>NaN</td>\n",
              "      <td>NaN</td>\n",
              "      <td>NaN</td>\n",
              "    </tr>\n",
              "    <tr>\n",
              "      <th>3</th>\n",
              "      <td>Wed Dec 01 07:36:54 +0000 2021</td>\n",
              "      <td>1465948000769830912</td>\n",
              "      <td>1465948000769830912</td>\n",
              "      <td>RT @mellowsongC: 찾아보면 크래커는 Jacob’s crackers, 치...</td>\n",
              "      <td>False</td>\n",
              "      <td>&lt;a href=\"http://twitter.com/download/android\" ...</td>\n",
              "      <td>NaN</td>\n",
              "      <td>None</td>\n",
              "      <td>NaN</td>\n",
              "      <td>None</td>\n",
              "      <td>None</td>\n",
              "      <td>None</td>\n",
              "      <td>None</td>\n",
              "      <td>NaN</td>\n",
              "      <td>None</td>\n",
              "      <td>True</td>\n",
              "      <td>2730</td>\n",
              "      <td>0</td>\n",
              "      <td>False</td>\n",
              "      <td>False</td>\n",
              "      <td>NaN</td>\n",
              "      <td>ko</td>\n",
              "      <td>[]</td>\n",
              "      <td>[]</td>\n",
              "      <td>[{'screen_name': 'mellowsongC', 'name': 'mello...</td>\n",
              "      <td>[]</td>\n",
              "      <td>NaN</td>\n",
              "      <td>NaN</td>\n",
              "      <td>recent</td>\n",
              "      <td>ko</td>\n",
              "      <td>950699887498162176</td>\n",
              "      <td>950699887498162176</td>\n",
              "      <td>己○ヲヲ</td>\n",
              "      <td>Its_rEAl_kkkk</td>\n",
              "      <td>HELL</td>\n",
              "      <td>Tag : moral_degeneration, mind_break, drunk / ...</td>\n",
              "      <td>https://t.co/i9INCG8JkH</td>\n",
              "      <td>[]</td>\n",
              "      <td>False</td>\n",
              "      <td>61</td>\n",
              "      <td>...</td>\n",
              "      <td>http://pbs.twimg.com/profile_images/1462347484...</td>\n",
              "      <td>https://pbs.twimg.com/profile_images/146234748...</td>\n",
              "      <td>https://pbs.twimg.com/profile_banners/10471373...</td>\n",
              "      <td>1DA1F2</td>\n",
              "      <td>C0DEED</td>\n",
              "      <td>DDEEF6</td>\n",
              "      <td>333333</td>\n",
              "      <td>True</td>\n",
              "      <td>True</td>\n",
              "      <td>True</td>\n",
              "      <td>False</td>\n",
              "      <td>False</td>\n",
              "      <td>False</td>\n",
              "      <td>False</td>\n",
              "      <td>none</td>\n",
              "      <td>[]</td>\n",
              "      <td>NaN</td>\n",
              "      <td>NaN</td>\n",
              "      <td>NaN</td>\n",
              "      <td>NaN</td>\n",
              "      <td>True</td>\n",
              "      <td>1.465584e+18</td>\n",
              "      <td>1465583810762870788</td>\n",
              "      <td>3390.0</td>\n",
              "      <td>1393.0</td>\n",
              "      <td>False</td>\n",
              "      <td>False</td>\n",
              "      <td>False</td>\n",
              "      <td>ko</td>\n",
              "      <td>NaN</td>\n",
              "      <td>NaN</td>\n",
              "      <td>NaN</td>\n",
              "      <td>NaN</td>\n",
              "      <td>NaN</td>\n",
              "      <td>NaN</td>\n",
              "      <td>NaN</td>\n",
              "      <td>NaN</td>\n",
              "      <td>NaN</td>\n",
              "      <td>NaN</td>\n",
              "      <td>NaN</td>\n",
              "    </tr>\n",
              "    <tr>\n",
              "      <th>4</th>\n",
              "      <td>Wed Dec 01 07:36:53 +0000 2021</td>\n",
              "      <td>1465947999415111680</td>\n",
              "      <td>1465947999415111680</td>\n",
              "      <td>I DON'T EVEN KNOW CHRISTMAS EVEL HAS AD, i was...</td>\n",
              "      <td>False</td>\n",
              "      <td>&lt;a href=\"http://twitter.com/download/android\" ...</td>\n",
              "      <td>NaN</td>\n",
              "      <td>None</td>\n",
              "      <td>NaN</td>\n",
              "      <td>None</td>\n",
              "      <td>None</td>\n",
              "      <td>None</td>\n",
              "      <td>None</td>\n",
              "      <td>NaN</td>\n",
              "      <td>None</td>\n",
              "      <td>False</td>\n",
              "      <td>0</td>\n",
              "      <td>0</td>\n",
              "      <td>False</td>\n",
              "      <td>False</td>\n",
              "      <td>False</td>\n",
              "      <td>en</td>\n",
              "      <td>[]</td>\n",
              "      <td>[]</td>\n",
              "      <td>[]</td>\n",
              "      <td>[]</td>\n",
              "      <td>[{'id': 1465947996223262727, 'id_str': '146594...</td>\n",
              "      <td>[{'id': 1465947996223262727, 'id_str': '146594...</td>\n",
              "      <td>recent</td>\n",
              "      <td>en</td>\n",
              "      <td>1148229137661739009</td>\n",
              "      <td>1148229137661739009</td>\n",
              "      <td>Epiphyllum</td>\n",
              "      <td>_PTXMG_</td>\n",
              "      <td>Việt Nam</td>\n",
              "      <td>Ahgase - Stay</td>\n",
              "      <td>None</td>\n",
              "      <td>[]</td>\n",
              "      <td>False</td>\n",
              "      <td>45</td>\n",
              "      <td>...</td>\n",
              "      <td>NaN</td>\n",
              "      <td>NaN</td>\n",
              "      <td>NaN</td>\n",
              "      <td>NaN</td>\n",
              "      <td>NaN</td>\n",
              "      <td>NaN</td>\n",
              "      <td>NaN</td>\n",
              "      <td>NaN</td>\n",
              "      <td>NaN</td>\n",
              "      <td>NaN</td>\n",
              "      <td>NaN</td>\n",
              "      <td>NaN</td>\n",
              "      <td>NaN</td>\n",
              "      <td>NaN</td>\n",
              "      <td>NaN</td>\n",
              "      <td>NaN</td>\n",
              "      <td>NaN</td>\n",
              "      <td>NaN</td>\n",
              "      <td>NaN</td>\n",
              "      <td>NaN</td>\n",
              "      <td>NaN</td>\n",
              "      <td>NaN</td>\n",
              "      <td>NaN</td>\n",
              "      <td>NaN</td>\n",
              "      <td>NaN</td>\n",
              "      <td>NaN</td>\n",
              "      <td>NaN</td>\n",
              "      <td>NaN</td>\n",
              "      <td>NaN</td>\n",
              "      <td>NaN</td>\n",
              "      <td>NaN</td>\n",
              "      <td>NaN</td>\n",
              "      <td>NaN</td>\n",
              "      <td>NaN</td>\n",
              "      <td>NaN</td>\n",
              "      <td>NaN</td>\n",
              "      <td>NaN</td>\n",
              "      <td>NaN</td>\n",
              "      <td>NaN</td>\n",
              "      <td>NaN</td>\n",
              "    </tr>\n",
              "    <tr>\n",
              "      <th>...</th>\n",
              "      <td>...</td>\n",
              "      <td>...</td>\n",
              "      <td>...</td>\n",
              "      <td>...</td>\n",
              "      <td>...</td>\n",
              "      <td>...</td>\n",
              "      <td>...</td>\n",
              "      <td>...</td>\n",
              "      <td>...</td>\n",
              "      <td>...</td>\n",
              "      <td>...</td>\n",
              "      <td>...</td>\n",
              "      <td>...</td>\n",
              "      <td>...</td>\n",
              "      <td>...</td>\n",
              "      <td>...</td>\n",
              "      <td>...</td>\n",
              "      <td>...</td>\n",
              "      <td>...</td>\n",
              "      <td>...</td>\n",
              "      <td>...</td>\n",
              "      <td>...</td>\n",
              "      <td>...</td>\n",
              "      <td>...</td>\n",
              "      <td>...</td>\n",
              "      <td>...</td>\n",
              "      <td>...</td>\n",
              "      <td>...</td>\n",
              "      <td>...</td>\n",
              "      <td>...</td>\n",
              "      <td>...</td>\n",
              "      <td>...</td>\n",
              "      <td>...</td>\n",
              "      <td>...</td>\n",
              "      <td>...</td>\n",
              "      <td>...</td>\n",
              "      <td>...</td>\n",
              "      <td>...</td>\n",
              "      <td>...</td>\n",
              "      <td>...</td>\n",
              "      <td>...</td>\n",
              "      <td>...</td>\n",
              "      <td>...</td>\n",
              "      <td>...</td>\n",
              "      <td>...</td>\n",
              "      <td>...</td>\n",
              "      <td>...</td>\n",
              "      <td>...</td>\n",
              "      <td>...</td>\n",
              "      <td>...</td>\n",
              "      <td>...</td>\n",
              "      <td>...</td>\n",
              "      <td>...</td>\n",
              "      <td>...</td>\n",
              "      <td>...</td>\n",
              "      <td>...</td>\n",
              "      <td>...</td>\n",
              "      <td>...</td>\n",
              "      <td>...</td>\n",
              "      <td>...</td>\n",
              "      <td>...</td>\n",
              "      <td>...</td>\n",
              "      <td>...</td>\n",
              "      <td>...</td>\n",
              "      <td>...</td>\n",
              "      <td>...</td>\n",
              "      <td>...</td>\n",
              "      <td>...</td>\n",
              "      <td>...</td>\n",
              "      <td>...</td>\n",
              "      <td>...</td>\n",
              "      <td>...</td>\n",
              "      <td>...</td>\n",
              "      <td>...</td>\n",
              "      <td>...</td>\n",
              "      <td>...</td>\n",
              "      <td>...</td>\n",
              "      <td>...</td>\n",
              "      <td>...</td>\n",
              "      <td>...</td>\n",
              "      <td>...</td>\n",
              "    </tr>\n",
              "    <tr>\n",
              "      <th>95</th>\n",
              "      <td>Wed Dec 01 07:33:58 +0000 2021</td>\n",
              "      <td>1465947263302127617</td>\n",
              "      <td>1465947263302127617</td>\n",
              "      <td>RT @JGYISD: 새로운 가마 ㅁㅊㅋㅋㅋㅜ https://t.co/uhXuh9yaWw</td>\n",
              "      <td>False</td>\n",
              "      <td>&lt;a href=\"http://twitter.com/download/android\" ...</td>\n",
              "      <td>NaN</td>\n",
              "      <td>None</td>\n",
              "      <td>NaN</td>\n",
              "      <td>None</td>\n",
              "      <td>None</td>\n",
              "      <td>None</td>\n",
              "      <td>None</td>\n",
              "      <td>NaN</td>\n",
              "      <td>None</td>\n",
              "      <td>False</td>\n",
              "      <td>2726</td>\n",
              "      <td>0</td>\n",
              "      <td>False</td>\n",
              "      <td>False</td>\n",
              "      <td>False</td>\n",
              "      <td>ko</td>\n",
              "      <td>[]</td>\n",
              "      <td>[]</td>\n",
              "      <td>[{'screen_name': 'JGYISD', 'name': 'JG', 'id':...</td>\n",
              "      <td>[]</td>\n",
              "      <td>[{'id': 1465882059277475841, 'id_str': '146588...</td>\n",
              "      <td>[{'id': 1465882059277475841, 'id_str': '146588...</td>\n",
              "      <td>recent</td>\n",
              "      <td>ko</td>\n",
              "      <td>1368185378117537792</td>\n",
              "      <td>1368185378117537792</td>\n",
              "      <td>웃음빌런 김블즈</td>\n",
              "      <td>blue_cheese_bz</td>\n",
              "      <td></td>\n",
              "      <td>이상한거 많이 들고오는 잡덕계.들여오는거 불편하시면 블락해주세요/내 그림을 훔쳐가는...</td>\n",
              "      <td>https://t.co/VLFTNnHpeC</td>\n",
              "      <td>[]</td>\n",
              "      <td>False</td>\n",
              "      <td>321</td>\n",
              "      <td>...</td>\n",
              "      <td>NaN</td>\n",
              "      <td>NaN</td>\n",
              "      <td>NaN</td>\n",
              "      <td>NaN</td>\n",
              "      <td>NaN</td>\n",
              "      <td>NaN</td>\n",
              "      <td>NaN</td>\n",
              "      <td>NaN</td>\n",
              "      <td>NaN</td>\n",
              "      <td>NaN</td>\n",
              "      <td>NaN</td>\n",
              "      <td>NaN</td>\n",
              "      <td>NaN</td>\n",
              "      <td>NaN</td>\n",
              "      <td>NaN</td>\n",
              "      <td>NaN</td>\n",
              "      <td>NaN</td>\n",
              "      <td>NaN</td>\n",
              "      <td>NaN</td>\n",
              "      <td>NaN</td>\n",
              "      <td>NaN</td>\n",
              "      <td>NaN</td>\n",
              "      <td>NaN</td>\n",
              "      <td>NaN</td>\n",
              "      <td>NaN</td>\n",
              "      <td>NaN</td>\n",
              "      <td>NaN</td>\n",
              "      <td>NaN</td>\n",
              "      <td>NaN</td>\n",
              "      <td>NaN</td>\n",
              "      <td>NaN</td>\n",
              "      <td>NaN</td>\n",
              "      <td>NaN</td>\n",
              "      <td>NaN</td>\n",
              "      <td>NaN</td>\n",
              "      <td>NaN</td>\n",
              "      <td>NaN</td>\n",
              "      <td>NaN</td>\n",
              "      <td>NaN</td>\n",
              "      <td>NaN</td>\n",
              "    </tr>\n",
              "    <tr>\n",
              "      <th>96</th>\n",
              "      <td>Wed Dec 01 07:33:55 +0000 2021</td>\n",
              "      <td>1465947249956225024</td>\n",
              "      <td>1465947249956225024</td>\n",
              "      <td>ｼｮﾀｸﾚｪ！！ｼｮﾀｸﾚｪ！！ｼｮﾀｸﾚｪ！！ｼｮﾀｸﾚｪ！！ｼｮﾀｸﾚｪｼｮﾀｸﾚｪ！！...</td>\n",
              "      <td>False</td>\n",
              "      <td>&lt;a href=\"http://twittbot.net/\" rel=\"nofollow\"&gt;...</td>\n",
              "      <td>NaN</td>\n",
              "      <td>None</td>\n",
              "      <td>NaN</td>\n",
              "      <td>None</td>\n",
              "      <td>None</td>\n",
              "      <td>None</td>\n",
              "      <td>None</td>\n",
              "      <td>NaN</td>\n",
              "      <td>None</td>\n",
              "      <td>False</td>\n",
              "      <td>0</td>\n",
              "      <td>0</td>\n",
              "      <td>False</td>\n",
              "      <td>False</td>\n",
              "      <td>NaN</td>\n",
              "      <td>ja</td>\n",
              "      <td>[]</td>\n",
              "      <td>[]</td>\n",
              "      <td>[]</td>\n",
              "      <td>[]</td>\n",
              "      <td>NaN</td>\n",
              "      <td>NaN</td>\n",
              "      <td>recent</td>\n",
              "      <td>ja</td>\n",
              "      <td>1635376657</td>\n",
              "      <td>1635376657</td>\n",
              "      <td>チーズbot</td>\n",
              "      <td>bot_cheese</td>\n",
              "      <td></td>\n",
              "      <td>誰もが知るあの人気乳製品 @Cheese_1st のbotですぜ(’ω’)……('ω')✌ｽ...</td>\n",
              "      <td>None</td>\n",
              "      <td>[]</td>\n",
              "      <td>False</td>\n",
              "      <td>76</td>\n",
              "      <td>...</td>\n",
              "      <td>NaN</td>\n",
              "      <td>NaN</td>\n",
              "      <td>NaN</td>\n",
              "      <td>NaN</td>\n",
              "      <td>NaN</td>\n",
              "      <td>NaN</td>\n",
              "      <td>NaN</td>\n",
              "      <td>NaN</td>\n",
              "      <td>NaN</td>\n",
              "      <td>NaN</td>\n",
              "      <td>NaN</td>\n",
              "      <td>NaN</td>\n",
              "      <td>NaN</td>\n",
              "      <td>NaN</td>\n",
              "      <td>NaN</td>\n",
              "      <td>NaN</td>\n",
              "      <td>NaN</td>\n",
              "      <td>NaN</td>\n",
              "      <td>NaN</td>\n",
              "      <td>NaN</td>\n",
              "      <td>NaN</td>\n",
              "      <td>NaN</td>\n",
              "      <td>NaN</td>\n",
              "      <td>NaN</td>\n",
              "      <td>NaN</td>\n",
              "      <td>NaN</td>\n",
              "      <td>NaN</td>\n",
              "      <td>NaN</td>\n",
              "      <td>NaN</td>\n",
              "      <td>NaN</td>\n",
              "      <td>NaN</td>\n",
              "      <td>NaN</td>\n",
              "      <td>NaN</td>\n",
              "      <td>NaN</td>\n",
              "      <td>NaN</td>\n",
              "      <td>NaN</td>\n",
              "      <td>NaN</td>\n",
              "      <td>NaN</td>\n",
              "      <td>NaN</td>\n",
              "      <td>NaN</td>\n",
              "    </tr>\n",
              "    <tr>\n",
              "      <th>97</th>\n",
              "      <td>Wed Dec 01 07:33:52 +0000 2021</td>\n",
              "      <td>1465947240095272965</td>\n",
              "      <td>1465947240095272965</td>\n",
              "      <td>I ate a yogurt cup, some eggs with cheese, and...</td>\n",
              "      <td>True</td>\n",
              "      <td>&lt;a href=\"http://twitter.com/download/android\" ...</td>\n",
              "      <td>NaN</td>\n",
              "      <td>None</td>\n",
              "      <td>NaN</td>\n",
              "      <td>None</td>\n",
              "      <td>None</td>\n",
              "      <td>None</td>\n",
              "      <td>None</td>\n",
              "      <td>NaN</td>\n",
              "      <td>None</td>\n",
              "      <td>False</td>\n",
              "      <td>0</td>\n",
              "      <td>0</td>\n",
              "      <td>False</td>\n",
              "      <td>False</td>\n",
              "      <td>NaN</td>\n",
              "      <td>en</td>\n",
              "      <td>[]</td>\n",
              "      <td>[]</td>\n",
              "      <td>[]</td>\n",
              "      <td>[{'url': 'https://t.co/wVB3hzBe9b', 'expanded_...</td>\n",
              "      <td>NaN</td>\n",
              "      <td>NaN</td>\n",
              "      <td>recent</td>\n",
              "      <td>en</td>\n",
              "      <td>16003507</td>\n",
              "      <td>16003507</td>\n",
              "      <td>Captain | Keep On Keeping On | Satan's cute horns</td>\n",
              "      <td>Lady_Noremon</td>\n",
              "      <td>Nova Scotia, Canada</td>\n",
              "      <td>Norémon. Captain. Whovian. Guthixian. ♥s many ...</td>\n",
              "      <td>https://t.co/RP8RcYTQuD</td>\n",
              "      <td>[{'url': 'https://t.co/tkDmMOrJFQ', 'expanded_...</td>\n",
              "      <td>False</td>\n",
              "      <td>1251</td>\n",
              "      <td>...</td>\n",
              "      <td>NaN</td>\n",
              "      <td>NaN</td>\n",
              "      <td>NaN</td>\n",
              "      <td>NaN</td>\n",
              "      <td>NaN</td>\n",
              "      <td>NaN</td>\n",
              "      <td>NaN</td>\n",
              "      <td>NaN</td>\n",
              "      <td>NaN</td>\n",
              "      <td>NaN</td>\n",
              "      <td>NaN</td>\n",
              "      <td>NaN</td>\n",
              "      <td>NaN</td>\n",
              "      <td>NaN</td>\n",
              "      <td>NaN</td>\n",
              "      <td>NaN</td>\n",
              "      <td>NaN</td>\n",
              "      <td>NaN</td>\n",
              "      <td>NaN</td>\n",
              "      <td>NaN</td>\n",
              "      <td>NaN</td>\n",
              "      <td>NaN</td>\n",
              "      <td>NaN</td>\n",
              "      <td>NaN</td>\n",
              "      <td>NaN</td>\n",
              "      <td>NaN</td>\n",
              "      <td>NaN</td>\n",
              "      <td>NaN</td>\n",
              "      <td>NaN</td>\n",
              "      <td>NaN</td>\n",
              "      <td>NaN</td>\n",
              "      <td>NaN</td>\n",
              "      <td>NaN</td>\n",
              "      <td>NaN</td>\n",
              "      <td>NaN</td>\n",
              "      <td>NaN</td>\n",
              "      <td>NaN</td>\n",
              "      <td>NaN</td>\n",
              "      <td>NaN</td>\n",
              "      <td>NaN</td>\n",
              "    </tr>\n",
              "    <tr>\n",
              "      <th>98</th>\n",
              "      <td>Wed Dec 01 07:33:48 +0000 2021</td>\n",
              "      <td>1465947224010014727</td>\n",
              "      <td>1465947224010014727</td>\n",
              "      <td>RT @BenitezFredo: No lie I’m impressed at all ...</td>\n",
              "      <td>False</td>\n",
              "      <td>&lt;a href=\"http://twitter.com/download/iphone\" r...</td>\n",
              "      <td>NaN</td>\n",
              "      <td>None</td>\n",
              "      <td>NaN</td>\n",
              "      <td>None</td>\n",
              "      <td>None</td>\n",
              "      <td>None</td>\n",
              "      <td>None</td>\n",
              "      <td>NaN</td>\n",
              "      <td>None</td>\n",
              "      <td>False</td>\n",
              "      <td>1</td>\n",
              "      <td>0</td>\n",
              "      <td>False</td>\n",
              "      <td>False</td>\n",
              "      <td>NaN</td>\n",
              "      <td>en</td>\n",
              "      <td>[]</td>\n",
              "      <td>[]</td>\n",
              "      <td>[{'screen_name': 'BenitezFredo', 'name': 'Fred...</td>\n",
              "      <td>[]</td>\n",
              "      <td>NaN</td>\n",
              "      <td>NaN</td>\n",
              "      <td>recent</td>\n",
              "      <td>en</td>\n",
              "      <td>1041761155625222144</td>\n",
              "      <td>1041761155625222144</td>\n",
              "      <td>Zachariah</td>\n",
              "      <td>ZachariahHerna3</td>\n",
              "      <td>Lansing, MI</td>\n",
              "      <td>MSU</td>\n",
              "      <td>None</td>\n",
              "      <td>[]</td>\n",
              "      <td>False</td>\n",
              "      <td>320</td>\n",
              "      <td>...</td>\n",
              "      <td>NaN</td>\n",
              "      <td>NaN</td>\n",
              "      <td>NaN</td>\n",
              "      <td>NaN</td>\n",
              "      <td>NaN</td>\n",
              "      <td>NaN</td>\n",
              "      <td>NaN</td>\n",
              "      <td>NaN</td>\n",
              "      <td>NaN</td>\n",
              "      <td>NaN</td>\n",
              "      <td>NaN</td>\n",
              "      <td>NaN</td>\n",
              "      <td>NaN</td>\n",
              "      <td>NaN</td>\n",
              "      <td>NaN</td>\n",
              "      <td>NaN</td>\n",
              "      <td>NaN</td>\n",
              "      <td>NaN</td>\n",
              "      <td>NaN</td>\n",
              "      <td>NaN</td>\n",
              "      <td>NaN</td>\n",
              "      <td>NaN</td>\n",
              "      <td>NaN</td>\n",
              "      <td>NaN</td>\n",
              "      <td>NaN</td>\n",
              "      <td>NaN</td>\n",
              "      <td>NaN</td>\n",
              "      <td>NaN</td>\n",
              "      <td>NaN</td>\n",
              "      <td>NaN</td>\n",
              "      <td>NaN</td>\n",
              "      <td>NaN</td>\n",
              "      <td>NaN</td>\n",
              "      <td>NaN</td>\n",
              "      <td>NaN</td>\n",
              "      <td>NaN</td>\n",
              "      <td>NaN</td>\n",
              "      <td>NaN</td>\n",
              "      <td>NaN</td>\n",
              "      <td>NaN</td>\n",
              "    </tr>\n",
              "    <tr>\n",
              "      <th>99</th>\n",
              "      <td>Wed Dec 01 07:33:48 +0000 2021</td>\n",
              "      <td>1465947222965583875</td>\n",
              "      <td>1465947222965583875</td>\n",
              "      <td>期待をするな。\\n勝手に傷つくな🤦‍♀️\\n自分が思ってるほど相手は私に期待などしていない🤷‍♀️</td>\n",
              "      <td>False</td>\n",
              "      <td>&lt;a href=\"http://twitter.com/download/iphone\" r...</td>\n",
              "      <td>NaN</td>\n",
              "      <td>None</td>\n",
              "      <td>NaN</td>\n",
              "      <td>None</td>\n",
              "      <td>None</td>\n",
              "      <td>None</td>\n",
              "      <td>None</td>\n",
              "      <td>NaN</td>\n",
              "      <td>None</td>\n",
              "      <td>False</td>\n",
              "      <td>0</td>\n",
              "      <td>0</td>\n",
              "      <td>False</td>\n",
              "      <td>False</td>\n",
              "      <td>NaN</td>\n",
              "      <td>ja</td>\n",
              "      <td>[]</td>\n",
              "      <td>[]</td>\n",
              "      <td>[]</td>\n",
              "      <td>[]</td>\n",
              "      <td>NaN</td>\n",
              "      <td>NaN</td>\n",
              "      <td>recent</td>\n",
              "      <td>ja</td>\n",
              "      <td>1248585588703399937</td>\n",
              "      <td>1248585588703399937</td>\n",
              "      <td>ねこちーず🧀*</td>\n",
              "      <td>ne_ko_cheese</td>\n",
              "      <td></td>\n",
              "      <td>ねこちーずです🐈🧀 ゆるーくお絵描きしてます！あと、たまに歌ったり</td>\n",
              "      <td>None</td>\n",
              "      <td>[]</td>\n",
              "      <td>False</td>\n",
              "      <td>52</td>\n",
              "      <td>...</td>\n",
              "      <td>NaN</td>\n",
              "      <td>NaN</td>\n",
              "      <td>NaN</td>\n",
              "      <td>NaN</td>\n",
              "      <td>NaN</td>\n",
              "      <td>NaN</td>\n",
              "      <td>NaN</td>\n",
              "      <td>NaN</td>\n",
              "      <td>NaN</td>\n",
              "      <td>NaN</td>\n",
              "      <td>NaN</td>\n",
              "      <td>NaN</td>\n",
              "      <td>NaN</td>\n",
              "      <td>NaN</td>\n",
              "      <td>NaN</td>\n",
              "      <td>NaN</td>\n",
              "      <td>NaN</td>\n",
              "      <td>NaN</td>\n",
              "      <td>NaN</td>\n",
              "      <td>NaN</td>\n",
              "      <td>NaN</td>\n",
              "      <td>NaN</td>\n",
              "      <td>NaN</td>\n",
              "      <td>NaN</td>\n",
              "      <td>NaN</td>\n",
              "      <td>NaN</td>\n",
              "      <td>NaN</td>\n",
              "      <td>NaN</td>\n",
              "      <td>NaN</td>\n",
              "      <td>NaN</td>\n",
              "      <td>NaN</td>\n",
              "      <td>NaN</td>\n",
              "      <td>NaN</td>\n",
              "      <td>NaN</td>\n",
              "      <td>NaN</td>\n",
              "      <td>NaN</td>\n",
              "      <td>NaN</td>\n",
              "      <td>NaN</td>\n",
              "      <td>NaN</td>\n",
              "      <td>NaN</td>\n",
              "    </tr>\n",
              "  </tbody>\n",
              "</table>\n",
              "<p>100 rows × 238 columns</p>\n",
              "</div>"
            ],
            "text/plain": [
              "                        created_at  ...  place.bounding_box.coordinates\n",
              "0   Wed Dec 01 07:36:56 +0000 2021  ...                             NaN\n",
              "1   Wed Dec 01 07:36:54 +0000 2021  ...                             NaN\n",
              "2   Wed Dec 01 07:36:54 +0000 2021  ...                             NaN\n",
              "3   Wed Dec 01 07:36:54 +0000 2021  ...                             NaN\n",
              "4   Wed Dec 01 07:36:53 +0000 2021  ...                             NaN\n",
              "..                             ...  ...                             ...\n",
              "95  Wed Dec 01 07:33:58 +0000 2021  ...                             NaN\n",
              "96  Wed Dec 01 07:33:55 +0000 2021  ...                             NaN\n",
              "97  Wed Dec 01 07:33:52 +0000 2021  ...                             NaN\n",
              "98  Wed Dec 01 07:33:48 +0000 2021  ...                             NaN\n",
              "99  Wed Dec 01 07:33:48 +0000 2021  ...                             NaN\n",
              "\n",
              "[100 rows x 238 columns]"
            ]
          },
          "metadata": {},
          "execution_count": 16
        }
      ],
      "metadata": {
        "colab": {
          "base_uri": "https://localhost:8080/",
          "height": 930
        },
        "id": "MYLna73wlyri",
        "outputId": "17970af9-7ad7-4227-ef0c-b95d182f08b1"
      }
    },
    {
      "cell_type": "code",
      "execution_count": null,
      "source": [
        "df.shape"
      ],
      "outputs": [
        {
          "output_type": "execute_result",
          "data": {
            "text/plain": [
              "(100, 238)"
            ]
          },
          "metadata": {},
          "execution_count": 17
        }
      ],
      "metadata": {
        "colab": {
          "base_uri": "https://localhost:8080/"
        },
        "id": "qDy2y0eidoL-",
        "outputId": "eb0b4d61-bd98-4bc2-a88d-f5fa60a9f242"
      }
    },
    {
      "cell_type": "code",
      "execution_count": null,
      "source": [
        "df.to_csv(\"TwitterData_latest_elonmusk.csv\")\n"
      ],
      "outputs": [],
      "metadata": {
        "id": "PdWRT96GdqLq"
      }
    },
    {
      "cell_type": "code",
      "execution_count": null,
      "source": [
        "!pip install yfinance"
      ],
      "outputs": [
        {
          "output_type": "stream",
          "name": "stdout",
          "text": [
            "Collecting yfinance\n",
            "  Downloading yfinance-0.1.67-py2.py3-none-any.whl (25 kB)\n",
            "Requirement already satisfied: requests>=2.20 in /usr/local/lib/python3.7/dist-packages (from yfinance) (2.23.0)\n",
            "Requirement already satisfied: pandas>=0.24 in /usr/local/lib/python3.7/dist-packages (from yfinance) (1.1.5)\n",
            "Collecting lxml>=4.5.1\n",
            "  Downloading lxml-4.6.4-cp37-cp37m-manylinux_2_17_x86_64.manylinux2014_x86_64.manylinux_2_24_x86_64.whl (6.3 MB)\n",
            "\u001b[K     |████████████████████████████████| 6.3 MB 15.5 MB/s \n",
            "\u001b[?25hRequirement already satisfied: numpy>=1.15 in /usr/local/lib/python3.7/dist-packages (from yfinance) (1.19.5)\n",
            "Requirement already satisfied: multitasking>=0.0.7 in /usr/local/lib/python3.7/dist-packages (from yfinance) (0.0.10)\n",
            "Requirement already satisfied: pytz>=2017.2 in /usr/local/lib/python3.7/dist-packages (from pandas>=0.24->yfinance) (2018.9)\n",
            "Requirement already satisfied: python-dateutil>=2.7.3 in /usr/local/lib/python3.7/dist-packages (from pandas>=0.24->yfinance) (2.8.2)\n",
            "Requirement already satisfied: six>=1.5 in /usr/local/lib/python3.7/dist-packages (from python-dateutil>=2.7.3->pandas>=0.24->yfinance) (1.15.0)\n",
            "Requirement already satisfied: certifi>=2017.4.17 in /usr/local/lib/python3.7/dist-packages (from requests>=2.20->yfinance) (2021.10.8)\n",
            "Requirement already satisfied: urllib3!=1.25.0,!=1.25.1,<1.26,>=1.21.1 in /usr/local/lib/python3.7/dist-packages (from requests>=2.20->yfinance) (1.24.3)\n",
            "Requirement already satisfied: chardet<4,>=3.0.2 in /usr/local/lib/python3.7/dist-packages (from requests>=2.20->yfinance) (3.0.4)\n",
            "Requirement already satisfied: idna<3,>=2.5 in /usr/local/lib/python3.7/dist-packages (from requests>=2.20->yfinance) (2.10)\n",
            "Installing collected packages: lxml, yfinance\n",
            "  Attempting uninstall: lxml\n",
            "    Found existing installation: lxml 4.2.6\n",
            "    Uninstalling lxml-4.2.6:\n",
            "      Successfully uninstalled lxml-4.2.6\n",
            "Successfully installed lxml-4.6.4 yfinance-0.1.67\n"
          ]
        }
      ],
      "metadata": {
        "colab": {
          "base_uri": "https://localhost:8080/"
        },
        "id": "x_TbsBW8etOk",
        "outputId": "d4ae6b1b-abe7-40f9-d78c-4fa2dd7778d2"
      }
    },
    {
      "cell_type": "code",
      "execution_count": null,
      "source": [
        "user_elonmusk = api.get_user(screen_name='elonmusk')\n"
      ],
      "outputs": [],
      "metadata": {
        "id": "t4wl2fWAfpK7"
      }
    },
    {
      "cell_type": "code",
      "execution_count": null,
      "source": [
        "print(user_elonmusk.screen_name)\n",
        "print(user_elonmusk.followers_count)\n"
      ],
      "outputs": [
        {
          "output_type": "stream",
          "name": "stdout",
          "text": [
            "elonmusk\n",
            "65159584\n"
          ]
        }
      ],
      "metadata": {
        "colab": {
          "base_uri": "https://localhost:8080/"
        },
        "id": "D75JPTDXftO9",
        "outputId": "d468227e-e3df-4190-cf0b-210dd54def69"
      }
    },
    {
      "cell_type": "code",
      "execution_count": null,
      "source": [
        "import yfinance as yf \n",
        "\n",
        "tsla = yf.Ticker(\"TSLA\")\n",
        "print(tsla)"
      ],
      "outputs": [
        {
          "output_type": "stream",
          "name": "stdout",
          "text": [
            "yfinance.Ticker object <TSLA>\n"
          ]
        }
      ],
      "metadata": {
        "colab": {
          "base_uri": "https://localhost:8080/"
        },
        "id": "T0IDubIJtW1I",
        "outputId": "dc197aa7-2cd7-4e4f-bf99-334e6b4875ef"
      }
    },
    {
      "cell_type": "code",
      "execution_count": null,
      "source": [
        "nltk.download('vader_lexicon')"
      ],
      "outputs": [
        {
          "output_type": "stream",
          "name": "stdout",
          "text": [
            "[nltk_data] Downloading package vader_lexicon to /root/nltk_data...\n"
          ]
        },
        {
          "output_type": "execute_result",
          "data": {
            "text/plain": [
              "True"
            ]
          },
          "metadata": {},
          "execution_count": 23
        }
      ],
      "metadata": {
        "colab": {
          "base_uri": "https://localhost:8080/"
        },
        "id": "1H12U1WUdqHQ",
        "outputId": "f975c4cb-89b1-4af2-eca8-a450fa08ebb3"
      }
    },
    {
      "cell_type": "code",
      "execution_count": null,
      "source": [
        "df = pd.DataFrame()  # initialize dataframe to store tweets\n",
        "while True:\n",
        "    if datetime.strptime(now, dtformat) < last_week:\n",
        "        # if we have reached 6 days ago, break the loop\n",
        "        break\n",
        "    pre60 = time_travel(now, 5)  # get x minutes before 'now'\n",
        "    # assign from and to datetime parameters for the API\n",
        "    params['start_time'] = pre60\n",
        "    params['end_time'] = now\n",
        "    response = requests.get(endpoint,\n",
        "                            params=params,\n",
        "                            headers=headers)  # send the request\n",
        "    time.sleep(2)\n",
        "    now = pre60  # move the window 60 minutes earlier\n",
        "    # iteratively append our tweet data to our dataframe\n",
        "    for tweet in response.json()['data']:\n",
        "        row = get_data(tweet)  # we defined this function earlier\n",
        "        if row['like_count']>=0 and row['retweet_count']>=0 and row['reply_count']>=0:   #row['like_count'] >=3:\n",
        "            df = df.append(row, ignore_index=True)\n",
        "df"
      ],
      "outputs": [
        {
          "output_type": "execute_result",
          "data": {
            "text/html": [
              "<div>\n",
              "<style scoped>\n",
              "    .dataframe tbody tr th:only-of-type {\n",
              "        vertical-align: middle;\n",
              "    }\n",
              "\n",
              "    .dataframe tbody tr th {\n",
              "        vertical-align: top;\n",
              "    }\n",
              "\n",
              "    .dataframe thead th {\n",
              "        text-align: right;\n",
              "    }\n",
              "</style>\n",
              "<table border=\"1\" class=\"dataframe\">\n",
              "  <thead>\n",
              "    <tr style=\"text-align: right;\">\n",
              "      <th></th>\n",
              "      <th>created_at</th>\n",
              "      <th>id</th>\n",
              "      <th>like_count</th>\n",
              "      <th>reply_count</th>\n",
              "      <th>retweet_count</th>\n",
              "      <th>text</th>\n",
              "    </tr>\n",
              "  </thead>\n",
              "  <tbody>\n",
              "    <tr>\n",
              "      <th>0</th>\n",
              "      <td>2021-12-01T07:31:57.000Z</td>\n",
              "      <td>1465946758463332352</td>\n",
              "      <td>0.0</td>\n",
              "      <td>0.0</td>\n",
              "      <td>77664.0</td>\n",
              "      <td>RT @cz_binance: I'm giving away a DOGE Tesla &amp;...</td>\n",
              "    </tr>\n",
              "    <tr>\n",
              "      <th>1</th>\n",
              "      <td>2021-12-01T07:31:56.000Z</td>\n",
              "      <td>1465946752708661250</td>\n",
              "      <td>0.0</td>\n",
              "      <td>0.0</td>\n",
              "      <td>5490.0</td>\n",
              "      <td>RT @binance: Win a custom $DOGE Tesla or $50,0...</td>\n",
              "    </tr>\n",
              "    <tr>\n",
              "      <th>2</th>\n",
              "      <td>2021-12-01T07:31:56.000Z</td>\n",
              "      <td>1465946751265763328</td>\n",
              "      <td>0.0</td>\n",
              "      <td>0.0</td>\n",
              "      <td>6004.0</td>\n",
              "      <td>RT @VGrtoken: followed by the logo and list of...</td>\n",
              "    </tr>\n",
              "    <tr>\n",
              "      <th>3</th>\n",
              "      <td>2021-12-01T07:31:50.000Z</td>\n",
              "      <td>1465946726200602629</td>\n",
              "      <td>0.0</td>\n",
              "      <td>0.0</td>\n",
              "      <td>0.0</td>\n",
              "      <td>@SAFEDRIVE19 @Dudefromwsb @elonmusk @saylor @T...</td>\n",
              "    </tr>\n",
              "    <tr>\n",
              "      <th>4</th>\n",
              "      <td>2021-12-01T07:31:47.000Z</td>\n",
              "      <td>1465946713856917513</td>\n",
              "      <td>0.0</td>\n",
              "      <td>0.0</td>\n",
              "      <td>77664.0</td>\n",
              "      <td>RT @cz_binance: I'm giving away a DOGE Tesla &amp;...</td>\n",
              "    </tr>\n",
              "    <tr>\n",
              "      <th>...</th>\n",
              "      <td>...</td>\n",
              "      <td>...</td>\n",
              "      <td>...</td>\n",
              "      <td>...</td>\n",
              "      <td>...</td>\n",
              "      <td>...</td>\n",
              "    </tr>\n",
              "    <tr>\n",
              "      <th>168854</th>\n",
              "      <td>2021-11-25T07:37:16.000Z</td>\n",
              "      <td>1463773766866010115</td>\n",
              "      <td>2.0</td>\n",
              "      <td>2.0</td>\n",
              "      <td>0.0</td>\n",
              "      <td>Tesla’s are wild bro</td>\n",
              "    </tr>\n",
              "    <tr>\n",
              "      <th>168855</th>\n",
              "      <td>2021-11-25T07:37:08.000Z</td>\n",
              "      <td>1463773734846681091</td>\n",
              "      <td>0.0</td>\n",
              "      <td>0.0</td>\n",
              "      <td>452.0</td>\n",
              "      <td>RT @CryptoLadyx: 🎅Micro Santa🎅\\n\\n✅8% BUSD Rew...</td>\n",
              "    </tr>\n",
              "    <tr>\n",
              "      <th>168856</th>\n",
              "      <td>2021-11-25T07:37:08.000Z</td>\n",
              "      <td>1463773734637129735</td>\n",
              "      <td>0.0</td>\n",
              "      <td>0.0</td>\n",
              "      <td>36.0</td>\n",
              "      <td>RT @business: Elon Musk has offloaded 9.2 mill...</td>\n",
              "    </tr>\n",
              "    <tr>\n",
              "      <th>168857</th>\n",
              "      <td>2021-11-25T07:37:01.000Z</td>\n",
              "      <td>1463773705335709696</td>\n",
              "      <td>0.0</td>\n",
              "      <td>0.0</td>\n",
              "      <td>53.0</td>\n",
              "      <td>RT @Matthew_Teudor: The current 22KW units are...</td>\n",
              "    </tr>\n",
              "    <tr>\n",
              "      <th>168858</th>\n",
              "      <td>2021-11-25T07:36:58.000Z</td>\n",
              "      <td>1463773694245830656</td>\n",
              "      <td>1.0</td>\n",
              "      <td>0.0</td>\n",
              "      <td>0.0</td>\n",
              "      <td>@CryptoDoll_ \"I DISCOURAGE FREE GIVEAWAYS\" ❌ 👨...</td>\n",
              "    </tr>\n",
              "  </tbody>\n",
              "</table>\n",
              "<p>168859 rows × 6 columns</p>\n",
              "</div>"
            ],
            "text/plain": [
              "                      created_at  ...                                               text\n",
              "0       2021-12-01T07:31:57.000Z  ...  RT @cz_binance: I'm giving away a DOGE Tesla &...\n",
              "1       2021-12-01T07:31:56.000Z  ...  RT @binance: Win a custom $DOGE Tesla or $50,0...\n",
              "2       2021-12-01T07:31:56.000Z  ...  RT @VGrtoken: followed by the logo and list of...\n",
              "3       2021-12-01T07:31:50.000Z  ...  @SAFEDRIVE19 @Dudefromwsb @elonmusk @saylor @T...\n",
              "4       2021-12-01T07:31:47.000Z  ...  RT @cz_binance: I'm giving away a DOGE Tesla &...\n",
              "...                          ...  ...                                                ...\n",
              "168854  2021-11-25T07:37:16.000Z  ...                               Tesla’s are wild bro\n",
              "168855  2021-11-25T07:37:08.000Z  ...  RT @CryptoLadyx: 🎅Micro Santa🎅\\n\\n✅8% BUSD Rew...\n",
              "168856  2021-11-25T07:37:08.000Z  ...  RT @business: Elon Musk has offloaded 9.2 mill...\n",
              "168857  2021-11-25T07:37:01.000Z  ...  RT @Matthew_Teudor: The current 22KW units are...\n",
              "168858  2021-11-25T07:36:58.000Z  ...  @CryptoDoll_ \"I DISCOURAGE FREE GIVEAWAYS\" ❌ 👨...\n",
              "\n",
              "[168859 rows x 6 columns]"
            ]
          },
          "metadata": {},
          "execution_count": null
        }
      ],
      "metadata": {
        "colab": {
          "background_save": true
        },
        "id": "FCmyklXOSrmA",
        "outputId": "8ddce8ec-a581-4c54-d509-68ed6fc9dd53"
      }
    },
    {
      "cell_type": "code",
      "execution_count": null,
      "source": [
        "#---------------------------------------------- Sentiment Model ------------------------------------------------------\n",
        "\n",
        "#import flair #lstm model\n",
        "#sentiment_model = flair.models.TextClassifier.load('en-sentiment')\n",
        "\n",
        "from nltk.sentiment import SentimentIntensityAnalyzer\n",
        "sia = SentimentIntensityAnalyzer()\n",
        "\n",
        "def is_positive(tweet: str) -> bool:\n",
        "    \"\"\"True if tweet has positive compound sentiment, False otherwise.\"\"\"\n",
        "    return sia.polarity_scores(tweet)[\"compound\"] > 0\n",
        "\n",
        "# we will append probability and sentiment preds later\n",
        "probs = []\n",
        "sentiments = []\n",
        "clean_tweets = []\n",
        "timestamp = []\n",
        "binary = []\n",
        "\n",
        "for time in df['created_at']:\n",
        "    timestamp.append(((datetime.strptime(time, '%Y-%m-%dT%H:%M:%S.%fZ')\n",
        "                      - timedelta(hours = 4)) #timezone\n",
        "                      + timedelta(hours = 0) #delay\n",
        "                     ).strftime('%Y-%m-%d')) # %H:00:00'))\n",
        "\n",
        "for tweet in df['text']:\n",
        "# we then use the sub method to replace anything matching\n",
        "    tweet = whitespace.sub(' ', tweet)\n",
        "    tweet = web_address.sub('', tweet)\n",
        "    tweet = tesla.sub('Tesla', tweet)\n",
        "    tweet = user.sub('', tweet)\n",
        "    if is_positive(tweet): binary.append(1)\n",
        "    else: binary.append(0)\n",
        "    #sentence = flair.data.Sentence(tweet)\n",
        "    #sentiment_model.predict(sentence)\n",
        "    # extract sentiment prediction\n",
        "    #sentiments.append(sentence.labels[0].value)  # 'POSITIVE' or 'NEGATIVE'\n",
        "    #if sentence.labels[0].value == 'NEGATIVE':\n",
        "    #    probs.append(-1 * sentence.labels[0].score)  # numerical score 0-1\n",
        "    #    binary.append(0)\n",
        "    #else:\n",
        "    #    probs.append(sentence.labels[0].score)  # numerical score 0-1\n",
        "     #   binary.append(1)\n",
        "    clean_tweets.append(tweet)\n",
        "    # print(tweet)\n",
        "    # print(' ')\n",
        "\n",
        "# add probability and sentiment predictions to tweets dataframe\n",
        "df['text_clean'] = clean_tweets\n",
        "#df['probability'] = probs\n",
        "#df['sentiment'] = sentiments\n",
        "df['binary'] = binary\n",
        "df['Date'] = timestamp\n",
        "#df['Date'] = pd.to_datetime(df['Date'])\n",
        "df"
      ],
      "outputs": [
        {
          "output_type": "stream",
          "name": "stderr",
          "text": [
            "/usr/local/lib/python3.7/dist-packages/nltk/twitter/__init__.py:20: UserWarning: The twython library has not been installed. Some functionality from the twitter package will not be available.\n",
            "  warnings.warn(\"The twython library has not been installed. \"\n"
          ]
        },
        {
          "output_type": "execute_result",
          "data": {
            "text/html": [
              "<div>\n",
              "<style scoped>\n",
              "    .dataframe tbody tr th:only-of-type {\n",
              "        vertical-align: middle;\n",
              "    }\n",
              "\n",
              "    .dataframe tbody tr th {\n",
              "        vertical-align: top;\n",
              "    }\n",
              "\n",
              "    .dataframe thead th {\n",
              "        text-align: right;\n",
              "    }\n",
              "</style>\n",
              "<table border=\"1\" class=\"dataframe\">\n",
              "  <thead>\n",
              "    <tr style=\"text-align: right;\">\n",
              "      <th></th>\n",
              "      <th>created_at</th>\n",
              "      <th>id</th>\n",
              "      <th>like_count</th>\n",
              "      <th>reply_count</th>\n",
              "      <th>retweet_count</th>\n",
              "      <th>text</th>\n",
              "      <th>text_clean</th>\n",
              "      <th>binary</th>\n",
              "      <th>Date</th>\n",
              "    </tr>\n",
              "  </thead>\n",
              "  <tbody>\n",
              "    <tr>\n",
              "      <th>0</th>\n",
              "      <td>2021-12-01T07:31:57.000Z</td>\n",
              "      <td>1465946758463332352</td>\n",
              "      <td>0.0</td>\n",
              "      <td>0.0</td>\n",
              "      <td>77664.0</td>\n",
              "      <td>RT @cz_binance: I'm giving away a DOGE Tesla &amp;...</td>\n",
              "      <td>RT : I'm giving away a DOGE Tesla &amp;amp; $50,00...</td>\n",
              "      <td>1</td>\n",
              "      <td>2021-12-01</td>\n",
              "    </tr>\n",
              "    <tr>\n",
              "      <th>1</th>\n",
              "      <td>2021-12-01T07:31:56.000Z</td>\n",
              "      <td>1465946752708661250</td>\n",
              "      <td>0.0</td>\n",
              "      <td>0.0</td>\n",
              "      <td>5490.0</td>\n",
              "      <td>RT @binance: Win a custom $DOGE Tesla or $50,0...</td>\n",
              "      <td>RT : Win a custom $DOGE Tesla or $50,000 in $D...</td>\n",
              "      <td>1</td>\n",
              "      <td>2021-12-01</td>\n",
              "    </tr>\n",
              "    <tr>\n",
              "      <th>2</th>\n",
              "      <td>2021-12-01T07:31:56.000Z</td>\n",
              "      <td>1465946751265763328</td>\n",
              "      <td>0.0</td>\n",
              "      <td>0.0</td>\n",
              "      <td>6004.0</td>\n",
              "      <td>RT @VGrtoken: followed by the logo and list of...</td>\n",
              "      <td>RT : followed by the logo and list of VGr on C...</td>\n",
              "      <td>0</td>\n",
              "      <td>2021-12-01</td>\n",
              "    </tr>\n",
              "    <tr>\n",
              "      <th>3</th>\n",
              "      <td>2021-12-01T07:31:50.000Z</td>\n",
              "      <td>1465946726200602629</td>\n",
              "      <td>0.0</td>\n",
              "      <td>0.0</td>\n",
              "      <td>0.0</td>\n",
              "      <td>@SAFEDRIVE19 @Dudefromwsb @elonmusk @saylor @T...</td>\n",
              "      <td>Tesla    Thank you for the opportunity. I ...</td>\n",
              "      <td>1</td>\n",
              "      <td>2021-12-01</td>\n",
              "    </tr>\n",
              "    <tr>\n",
              "      <th>4</th>\n",
              "      <td>2021-12-01T07:31:47.000Z</td>\n",
              "      <td>1465946713856917513</td>\n",
              "      <td>0.0</td>\n",
              "      <td>0.0</td>\n",
              "      <td>77664.0</td>\n",
              "      <td>RT @cz_binance: I'm giving away a DOGE Tesla &amp;...</td>\n",
              "      <td>RT : I'm giving away a DOGE Tesla &amp;amp; $50,00...</td>\n",
              "      <td>1</td>\n",
              "      <td>2021-12-01</td>\n",
              "    </tr>\n",
              "    <tr>\n",
              "      <th>...</th>\n",
              "      <td>...</td>\n",
              "      <td>...</td>\n",
              "      <td>...</td>\n",
              "      <td>...</td>\n",
              "      <td>...</td>\n",
              "      <td>...</td>\n",
              "      <td>...</td>\n",
              "      <td>...</td>\n",
              "      <td>...</td>\n",
              "    </tr>\n",
              "    <tr>\n",
              "      <th>168854</th>\n",
              "      <td>2021-11-25T07:37:16.000Z</td>\n",
              "      <td>1463773766866010115</td>\n",
              "      <td>2.0</td>\n",
              "      <td>2.0</td>\n",
              "      <td>0.0</td>\n",
              "      <td>Tesla’s are wild bro</td>\n",
              "      <td>Tesla’s are wild bro</td>\n",
              "      <td>0</td>\n",
              "      <td>2021-11-25</td>\n",
              "    </tr>\n",
              "    <tr>\n",
              "      <th>168855</th>\n",
              "      <td>2021-11-25T07:37:08.000Z</td>\n",
              "      <td>1463773734846681091</td>\n",
              "      <td>0.0</td>\n",
              "      <td>0.0</td>\n",
              "      <td>452.0</td>\n",
              "      <td>RT @CryptoLadyx: 🎅Micro Santa🎅\\n\\n✅8% BUSD Rew...</td>\n",
              "      <td>RT : 🎅Micro Santa🎅 ✅8% BUSD Rewards ✅3% Buy-Ba...</td>\n",
              "      <td>1</td>\n",
              "      <td>2021-11-25</td>\n",
              "    </tr>\n",
              "    <tr>\n",
              "      <th>168856</th>\n",
              "      <td>2021-11-25T07:37:08.000Z</td>\n",
              "      <td>1463773734637129735</td>\n",
              "      <td>0.0</td>\n",
              "      <td>0.0</td>\n",
              "      <td>36.0</td>\n",
              "      <td>RT @business: Elon Musk has offloaded 9.2 mill...</td>\n",
              "      <td>RT : Elon Musk has offloaded 9.2 million share...</td>\n",
              "      <td>1</td>\n",
              "      <td>2021-11-25</td>\n",
              "    </tr>\n",
              "    <tr>\n",
              "      <th>168857</th>\n",
              "      <td>2021-11-25T07:37:01.000Z</td>\n",
              "      <td>1463773705335709696</td>\n",
              "      <td>0.0</td>\n",
              "      <td>0.0</td>\n",
              "      <td>53.0</td>\n",
              "      <td>RT @Matthew_Teudor: The current 22KW units are...</td>\n",
              "      <td>RT : The current 22KW units are the worst char...</td>\n",
              "      <td>0</td>\n",
              "      <td>2021-11-25</td>\n",
              "    </tr>\n",
              "    <tr>\n",
              "      <th>168858</th>\n",
              "      <td>2021-11-25T07:36:58.000Z</td>\n",
              "      <td>1463773694245830656</td>\n",
              "      <td>1.0</td>\n",
              "      <td>0.0</td>\n",
              "      <td>0.0</td>\n",
              "      <td>@CryptoDoll_ \"I DISCOURAGE FREE GIVEAWAYS\" ❌ 👨...</td>\n",
              "      <td>\"I DISCOURAGE FREE GIVEAWAYS\" ❌ 👨‍💻 DYOR 👨‍💻 ...</td>\n",
              "      <td>1</td>\n",
              "      <td>2021-11-25</td>\n",
              "    </tr>\n",
              "  </tbody>\n",
              "</table>\n",
              "<p>168859 rows × 9 columns</p>\n",
              "</div>"
            ],
            "text/plain": [
              "                      created_at                   id  ...  binary        Date\n",
              "0       2021-12-01T07:31:57.000Z  1465946758463332352  ...       1  2021-12-01\n",
              "1       2021-12-01T07:31:56.000Z  1465946752708661250  ...       1  2021-12-01\n",
              "2       2021-12-01T07:31:56.000Z  1465946751265763328  ...       0  2021-12-01\n",
              "3       2021-12-01T07:31:50.000Z  1465946726200602629  ...       1  2021-12-01\n",
              "4       2021-12-01T07:31:47.000Z  1465946713856917513  ...       1  2021-12-01\n",
              "...                          ...                  ...  ...     ...         ...\n",
              "168854  2021-11-25T07:37:16.000Z  1463773766866010115  ...       0  2021-11-25\n",
              "168855  2021-11-25T07:37:08.000Z  1463773734846681091  ...       1  2021-11-25\n",
              "168856  2021-11-25T07:37:08.000Z  1463773734637129735  ...       1  2021-11-25\n",
              "168857  2021-11-25T07:37:01.000Z  1463773705335709696  ...       0  2021-11-25\n",
              "168858  2021-11-25T07:36:58.000Z  1463773694245830656  ...       1  2021-11-25\n",
              "\n",
              "[168859 rows x 9 columns]"
            ]
          },
          "metadata": {},
          "execution_count": null
        }
      ],
      "metadata": {
        "colab": {
          "background_save": true
        },
        "id": "iVKIIjGJSrol",
        "outputId": "8787af2c-19f3-4f86-f962-d4d4890c8c7b"
      }
    },
    {
      "cell_type": "code",
      "execution_count": null,
      "source": [
        "\n",
        "#________________________________ Stock Data __________________________________________________________________\n",
        "\n",
        "import yfinance as yf\n",
        "\n",
        "#tsla = yf.Ticker(\"TSLA\")\n",
        "tsla = yf.download( \"TSLA\",\n",
        "    start=datetime.strptime(df['created_at'].min(),'%Y-%m-%dT%H:%M:%S.%fZ').strftime('%Y-%m-%d'),\n",
        "    end=(datetime.strptime(df['created_at'].max(),'%Y-%m-%dT%H:%M:%S.%fZ')+timedelta(days = 2)).strftime('%Y-%m-%d'),\n",
        "    interval='1d' #'60m'\n",
        "        )#.reset_index()\n",
        "tsla_stock = tsla.pct_change().reset_index()"
      ],
      "outputs": [
        {
          "output_type": "stream",
          "name": "stdout",
          "text": [
            "\r[*********************100%***********************]  1 of 1 completed\n"
          ]
        }
      ],
      "metadata": {
        "colab": {
          "background_save": true
        },
        "id": "Y47YRYqmSrq8",
        "outputId": "ce88f216-a7f0-4bae-d850-d7711064576f"
      }
    },
    {
      "cell_type": "code",
      "execution_count": null,
      "source": [
        "converted = []\n",
        "for time in tsla_stock['Date']:\n",
        "    converted.append(time.strftime('%Y-%m-%d')) #  %H:00:00'))\n",
        "tsla_stock['Date'] = converted\n",
        "#tsla_stock['Date'] = pd.to_datetime(tsla_stock['Date'])\n",
        "tsla_stock"
      ],
      "outputs": [
        {
          "output_type": "execute_result",
          "data": {
            "text/html": [
              "<div>\n",
              "<style scoped>\n",
              "    .dataframe tbody tr th:only-of-type {\n",
              "        vertical-align: middle;\n",
              "    }\n",
              "\n",
              "    .dataframe tbody tr th {\n",
              "        vertical-align: top;\n",
              "    }\n",
              "\n",
              "    .dataframe thead th {\n",
              "        text-align: right;\n",
              "    }\n",
              "</style>\n",
              "<table border=\"1\" class=\"dataframe\">\n",
              "  <thead>\n",
              "    <tr style=\"text-align: right;\">\n",
              "      <th></th>\n",
              "      <th>Date</th>\n",
              "      <th>Open</th>\n",
              "      <th>High</th>\n",
              "      <th>Low</th>\n",
              "      <th>Close</th>\n",
              "      <th>Adj Close</th>\n",
              "      <th>Volume</th>\n",
              "    </tr>\n",
              "  </thead>\n",
              "  <tbody>\n",
              "    <tr>\n",
              "      <th>0</th>\n",
              "      <td>2021-11-26</td>\n",
              "      <td>NaN</td>\n",
              "      <td>NaN</td>\n",
              "      <td>NaN</td>\n",
              "      <td>NaN</td>\n",
              "      <td>NaN</td>\n",
              "      <td>NaN</td>\n",
              "    </tr>\n",
              "    <tr>\n",
              "      <th>1</th>\n",
              "      <td>2021-11-29</td>\n",
              "      <td>0.001383</td>\n",
              "      <td>0.030565</td>\n",
              "      <td>0.017752</td>\n",
              "      <td>0.050900</td>\n",
              "      <td>0.050900</td>\n",
              "      <td>0.666353</td>\n",
              "    </tr>\n",
              "    <tr>\n",
              "      <th>2</th>\n",
              "      <td>2021-11-30</td>\n",
              "      <td>0.039401</td>\n",
              "      <td>0.022167</td>\n",
              "      <td>0.016188</td>\n",
              "      <td>0.006834</td>\n",
              "      <td>0.006834</td>\n",
              "      <td>0.387007</td>\n",
              "    </tr>\n",
              "  </tbody>\n",
              "</table>\n",
              "</div>"
            ],
            "text/plain": [
              "         Date      Open      High       Low     Close  Adj Close    Volume\n",
              "0  2021-11-26       NaN       NaN       NaN       NaN        NaN       NaN\n",
              "1  2021-11-29  0.001383  0.030565  0.017752  0.050900   0.050900  0.666353\n",
              "2  2021-11-30  0.039401  0.022167  0.016188  0.006834   0.006834  0.387007"
            ]
          },
          "metadata": {},
          "execution_count": null
        }
      ],
      "metadata": {
        "colab": {
          "background_save": true
        },
        "id": "JuhOuCGSTifY",
        "outputId": "f7bb9711-a81e-4fbc-caca-74407adab821"
      }
    },
    {
      "cell_type": "code",
      "execution_count": null,
      "source": [
        "means = df.groupby(['Date'],  as_index=False).mean()\n",
        "means"
      ],
      "outputs": [
        {
          "output_type": "execute_result",
          "data": {
            "text/html": [
              "<div>\n",
              "<style scoped>\n",
              "    .dataframe tbody tr th:only-of-type {\n",
              "        vertical-align: middle;\n",
              "    }\n",
              "\n",
              "    .dataframe tbody tr th {\n",
              "        vertical-align: top;\n",
              "    }\n",
              "\n",
              "    .dataframe thead th {\n",
              "        text-align: right;\n",
              "    }\n",
              "</style>\n",
              "<table border=\"1\" class=\"dataframe\">\n",
              "  <thead>\n",
              "    <tr style=\"text-align: right;\">\n",
              "      <th></th>\n",
              "      <th>Date</th>\n",
              "      <th>like_count</th>\n",
              "      <th>reply_count</th>\n",
              "      <th>retweet_count</th>\n",
              "      <th>binary</th>\n",
              "    </tr>\n",
              "  </thead>\n",
              "  <tbody>\n",
              "    <tr>\n",
              "      <th>0</th>\n",
              "      <td>2021-11-25</td>\n",
              "      <td>4.504127</td>\n",
              "      <td>0.409947</td>\n",
              "      <td>894.861503</td>\n",
              "      <td>0.535312</td>\n",
              "    </tr>\n",
              "    <tr>\n",
              "      <th>1</th>\n",
              "      <td>2021-11-26</td>\n",
              "      <td>4.373086</td>\n",
              "      <td>0.454477</td>\n",
              "      <td>1191.217907</td>\n",
              "      <td>0.440821</td>\n",
              "    </tr>\n",
              "    <tr>\n",
              "      <th>2</th>\n",
              "      <td>2021-11-27</td>\n",
              "      <td>4.118099</td>\n",
              "      <td>0.396585</td>\n",
              "      <td>745.124070</td>\n",
              "      <td>0.424765</td>\n",
              "    </tr>\n",
              "    <tr>\n",
              "      <th>3</th>\n",
              "      <td>2021-11-28</td>\n",
              "      <td>5.811048</td>\n",
              "      <td>0.576398</td>\n",
              "      <td>680.385329</td>\n",
              "      <td>0.498107</td>\n",
              "    </tr>\n",
              "    <tr>\n",
              "      <th>4</th>\n",
              "      <td>2021-11-29</td>\n",
              "      <td>2.726695</td>\n",
              "      <td>0.283619</td>\n",
              "      <td>19397.634986</td>\n",
              "      <td>0.681648</td>\n",
              "    </tr>\n",
              "    <tr>\n",
              "      <th>5</th>\n",
              "      <td>2021-11-30</td>\n",
              "      <td>1.906791</td>\n",
              "      <td>0.241424</td>\n",
              "      <td>15821.557059</td>\n",
              "      <td>0.589799</td>\n",
              "    </tr>\n",
              "    <tr>\n",
              "      <th>6</th>\n",
              "      <td>2021-12-01</td>\n",
              "      <td>0.715449</td>\n",
              "      <td>0.071196</td>\n",
              "      <td>6785.476268</td>\n",
              "      <td>0.592369</td>\n",
              "    </tr>\n",
              "  </tbody>\n",
              "</table>\n",
              "</div>"
            ],
            "text/plain": [
              "         Date  like_count  reply_count  retweet_count    binary\n",
              "0  2021-11-25    4.504127     0.409947     894.861503  0.535312\n",
              "1  2021-11-26    4.373086     0.454477    1191.217907  0.440821\n",
              "2  2021-11-27    4.118099     0.396585     745.124070  0.424765\n",
              "3  2021-11-28    5.811048     0.576398     680.385329  0.498107\n",
              "4  2021-11-29    2.726695     0.283619   19397.634986  0.681648\n",
              "5  2021-11-30    1.906791     0.241424   15821.557059  0.589799\n",
              "6  2021-12-01    0.715449     0.071196    6785.476268  0.592369"
            ]
          },
          "metadata": {},
          "execution_count": null
        }
      ],
      "metadata": {
        "colab": {
          "background_save": true
        },
        "id": "steCnYqLSrtm",
        "outputId": "e15d8d3c-d808-4246-ddc9-b121f1285b54"
      }
    },
    {
      "cell_type": "code",
      "execution_count": null,
      "source": [
        "means['Date']\n"
      ],
      "outputs": [
        {
          "output_type": "execute_result",
          "data": {
            "text/plain": [
              "0    2021-11-25\n",
              "1    2021-11-26\n",
              "2    2021-11-27\n",
              "3    2021-11-28\n",
              "4    2021-11-29\n",
              "5    2021-11-30\n",
              "6    2021-12-01\n",
              "Name: Date, dtype: object"
            ]
          },
          "metadata": {},
          "execution_count": null
        }
      ],
      "metadata": {
        "colab": {
          "background_save": true
        },
        "id": "8BdLeQIrSrwF",
        "outputId": "c4a4f454-364a-4f28-cd84-95f0e9a2f6d3"
      }
    },
    {
      "cell_type": "code",
      "execution_count": null,
      "source": [
        "tsla_stock['Date']"
      ],
      "outputs": [
        {
          "output_type": "execute_result",
          "data": {
            "text/plain": [
              "0    2021-11-26\n",
              "1    2021-11-29\n",
              "2    2021-11-30\n",
              "Name: Date, dtype: object"
            ]
          },
          "metadata": {},
          "execution_count": null
        }
      ],
      "metadata": {
        "colab": {
          "background_save": true
        },
        "id": "njoNGNRoSryi",
        "outputId": "1b5b9157-d2b8-4613-b1eb-f1dca6c9d992"
      }
    },
    {
      "cell_type": "code",
      "execution_count": null,
      "source": [
        "#df['Date']=df['Date'].astype(object)\n"
      ],
      "outputs": [],
      "metadata": {
        "colab": {
          "background_save": true
        },
        "id": "v0mno80ySAoJ"
      }
    },
    {
      "cell_type": "code",
      "execution_count": null,
      "source": [
        "combined = means.merge(tsla_stock, how='inner')\n",
        "combined\n"
      ],
      "outputs": [
        {
          "output_type": "execute_result",
          "data": {
            "text/html": [
              "<div>\n",
              "<style scoped>\n",
              "    .dataframe tbody tr th:only-of-type {\n",
              "        vertical-align: middle;\n",
              "    }\n",
              "\n",
              "    .dataframe tbody tr th {\n",
              "        vertical-align: top;\n",
              "    }\n",
              "\n",
              "    .dataframe thead th {\n",
              "        text-align: right;\n",
              "    }\n",
              "</style>\n",
              "<table border=\"1\" class=\"dataframe\">\n",
              "  <thead>\n",
              "    <tr style=\"text-align: right;\">\n",
              "      <th></th>\n",
              "      <th>Date</th>\n",
              "      <th>like_count</th>\n",
              "      <th>reply_count</th>\n",
              "      <th>retweet_count</th>\n",
              "      <th>binary</th>\n",
              "      <th>Open</th>\n",
              "      <th>High</th>\n",
              "      <th>Low</th>\n",
              "      <th>Close</th>\n",
              "      <th>Adj Close</th>\n",
              "      <th>Volume</th>\n",
              "    </tr>\n",
              "  </thead>\n",
              "  <tbody>\n",
              "    <tr>\n",
              "      <th>0</th>\n",
              "      <td>2021-11-26</td>\n",
              "      <td>4.373086</td>\n",
              "      <td>0.454477</td>\n",
              "      <td>1191.217907</td>\n",
              "      <td>0.440821</td>\n",
              "      <td>NaN</td>\n",
              "      <td>NaN</td>\n",
              "      <td>NaN</td>\n",
              "      <td>NaN</td>\n",
              "      <td>NaN</td>\n",
              "      <td>NaN</td>\n",
              "    </tr>\n",
              "    <tr>\n",
              "      <th>1</th>\n",
              "      <td>2021-11-29</td>\n",
              "      <td>2.726695</td>\n",
              "      <td>0.283619</td>\n",
              "      <td>19397.634986</td>\n",
              "      <td>0.681648</td>\n",
              "      <td>0.001383</td>\n",
              "      <td>0.030565</td>\n",
              "      <td>0.017752</td>\n",
              "      <td>0.050900</td>\n",
              "      <td>0.050900</td>\n",
              "      <td>0.666353</td>\n",
              "    </tr>\n",
              "    <tr>\n",
              "      <th>2</th>\n",
              "      <td>2021-11-30</td>\n",
              "      <td>1.906791</td>\n",
              "      <td>0.241424</td>\n",
              "      <td>15821.557059</td>\n",
              "      <td>0.589799</td>\n",
              "      <td>0.039401</td>\n",
              "      <td>0.022167</td>\n",
              "      <td>0.016188</td>\n",
              "      <td>0.006834</td>\n",
              "      <td>0.006834</td>\n",
              "      <td>0.387007</td>\n",
              "    </tr>\n",
              "  </tbody>\n",
              "</table>\n",
              "</div>"
            ],
            "text/plain": [
              "         Date  like_count  reply_count  ...     Close  Adj Close    Volume\n",
              "0  2021-11-26    4.373086     0.454477  ...       NaN        NaN       NaN\n",
              "1  2021-11-29    2.726695     0.283619  ...  0.050900   0.050900  0.666353\n",
              "2  2021-11-30    1.906791     0.241424  ...  0.006834   0.006834  0.387007\n",
              "\n",
              "[3 rows x 11 columns]"
            ]
          },
          "metadata": {},
          "execution_count": null
        }
      ],
      "metadata": {
        "colab": {
          "background_save": true
        },
        "id": "TjZKyPyuSr1b",
        "outputId": "b2fc8417-24f3-4a92-ec27-56e1a1f7294b"
      }
    },
    {
      "cell_type": "code",
      "execution_count": null,
      "source": [
        "#combined['like_count'].corr(combined['Close'])\n",
        "combined['binary'].corr(combined['Close'])"
      ],
      "outputs": [
        {
          "output_type": "execute_result",
          "data": {
            "text/plain": [
              "0.9999999999999999"
            ]
          },
          "metadata": {},
          "execution_count": null
        }
      ],
      "metadata": {
        "colab": {
          "background_save": true
        },
        "id": "7ShlkoNkSr4f",
        "outputId": "85277ca8-dbd6-4e8d-d10c-f976fdfc356e"
      }
    },
    {
      "cell_type": "code",
      "execution_count": null,
      "source": [
        "import numpy as np\n",
        "import matplotlib.pyplot as plt\n",
        "\n",
        "fig,ax = plt.subplots(1)\n",
        "\n",
        "# plot the data\n",
        "ax.plot(combined['binary'],combined['Close'], 'ro')"
      ],
      "outputs": [
        {
          "output_type": "execute_result",
          "data": {
            "text/plain": [
              "[<matplotlib.lines.Line2D at 0x7fefbbcd3dd0>]"
            ]
          },
          "metadata": {},
          "execution_count": null
        },
        {
          "output_type": "display_data",
          "data": {
            "image/png": "[encoded data removed]",
            "text/plain": [
              "<Figure size 432x288 with 1 Axes>"
            ]
          },
          "metadata": {}
        }
      ],
      "metadata": {
        "colab": {
          "background_save": true
        },
        "id": "J_Knwsk3Sr7J",
        "outputId": "376bf338-2c44-40e2-9377-51a1b04b56ac"
      }
    },
    {
      "cell_type": "code",
      "execution_count": null,
      "source": [
        "tweets_file_path = 'TwitterData_latest_elonmusk.csv'"
      ],
      "outputs": [],
      "metadata": {
        "colab": {
          "background_save": true
        },
        "id": "pKiapbP-PWoH"
      }
    },
    {
      "cell_type": "code",
      "execution_count": null,
      "source": [
        "tweets_data = pd.read_csv(tweets_file_path)"
      ],
      "outputs": [],
      "metadata": {
        "colab": {
          "background_save": true
        },
        "id": "lb-bW29JPWlj"
      }
    },
    {
      "cell_type": "code",
      "execution_count": null,
      "source": [
        "tweets_data.describe"
      ],
      "outputs": [
        {
          "output_type": "execute_result",
          "data": {
            "text/plain": [
              "<bound method NDFrame.describe of     Unnamed: 0  ... place.bounding_box.coordinates\n",
              "0            0  ...                            NaN\n",
              "1            1  ...                            NaN\n",
              "2            2  ...                            NaN\n",
              "3            3  ...                            NaN\n",
              "4            4  ...                            NaN\n",
              "..         ...  ...                            ...\n",
              "95          95  ...                            NaN\n",
              "96          96  ...                            NaN\n",
              "97          97  ...                            NaN\n",
              "98          98  ...                            NaN\n",
              "99          99  ...                            NaN\n",
              "\n",
              "[100 rows x 239 columns]>"
            ]
          },
          "metadata": {},
          "execution_count": null
        }
      ],
      "metadata": {
        "colab": {
          "background_save": true
        },
        "id": "_LAi7CoxPWi6",
        "outputId": "5649dd14-3bd9-4406-a4fa-519f49fc9cc4"
      }
    },
    {
      "cell_type": "code",
      "execution_count": null,
      "source": [
        "tweets_data.columns"
      ],
      "outputs": [
        {
          "output_type": "execute_result",
          "data": {
            "text/plain": [
              "Index(['Unnamed: 0', 'created_at', 'id', 'id_str', 'text', 'truncated',\n",
              "       'source', 'in_reply_to_status_id', 'in_reply_to_status_id_str',\n",
              "       'in_reply_to_user_id',\n",
              "       ...\n",
              "       'place.id', 'place.url', 'place.place_type', 'place.name',\n",
              "       'place.full_name', 'place.country_code', 'place.country',\n",
              "       'place.contained_within', 'place.bounding_box.type',\n",
              "       'place.bounding_box.coordinates'],\n",
              "      dtype='object', length=239)"
            ]
          },
          "metadata": {},
          "execution_count": null
        }
      ],
      "metadata": {
        "colab": {
          "background_save": true
        },
        "id": "8zyED3ZnPWgP",
        "outputId": "ce522d8b-66f2-42c2-dbbd-df3a75627a53"
      }
    },
    {
      "cell_type": "code",
      "execution_count": null,
      "source": [
        "tweets_data.shape"
      ],
      "outputs": [
        {
          "output_type": "execute_result",
          "data": {
            "text/plain": [
              "(100, 239)"
            ]
          },
          "metadata": {},
          "execution_count": null
        }
      ],
      "metadata": {
        "colab": {
          "background_save": true
        },
        "id": "8L5qoxFdPWUR",
        "outputId": "d0cf586e-9e48-4b06-80a6-b755c23452f9"
      }
    },
    {
      "cell_type": "code",
      "execution_count": null,
      "source": [
        "tweets_data.isnull().sum()"
      ],
      "outputs": [
        {
          "output_type": "execute_result",
          "data": {
            "text/plain": [
              "Unnamed: 0                         0\n",
              "created_at                         0\n",
              "id                                 0\n",
              "id_str                             0\n",
              "text                               0\n",
              "                                  ..\n",
              "place.country_code                98\n",
              "place.country                     98\n",
              "place.contained_within            98\n",
              "place.bounding_box.type           98\n",
              "place.bounding_box.coordinates    98\n",
              "Length: 239, dtype: int64"
            ]
          },
          "metadata": {},
          "execution_count": null
        }
      ],
      "metadata": {
        "colab": {
          "background_save": true
        },
        "id": "EPoynNHQPWSS",
        "outputId": "c01b0577-354d-414f-fa30-38a8c5451f9e"
      }
    },
    {
      "cell_type": "code",
      "execution_count": null,
      "source": [
        "tweets_data = tweets_data = tweets_data.dropna(axis=0)"
      ],
      "outputs": [],
      "metadata": {
        "colab": {
          "background_save": true
        },
        "id": "OHM-035_PWQr"
      }
    },
    {
      "cell_type": "code",
      "execution_count": null,
      "source": [
        "# label encoding\n",
        "tweets_data.replace({\"Tweets\":{'YES':0,'NO':1}},inplace=True)\n",
        "# printing the first 5 rows of the dataframe\n",
        "tweets_data.head(5)"
      ],
      "outputs": [
        {
          "output_type": "execute_result",
          "data": {
            "text/html": [
              "<div>\n",
              "<style scoped>\n",
              "    .dataframe tbody tr th:only-of-type {\n",
              "        vertical-align: middle;\n",
              "    }\n",
              "\n",
              "    .dataframe tbody tr th {\n",
              "        vertical-align: top;\n",
              "    }\n",
              "\n",
              "    .dataframe thead th {\n",
              "        text-align: right;\n",
              "    }\n",
              "</style>\n",
              "<table border=\"1\" class=\"dataframe\">\n",
              "  <thead>\n",
              "    <tr style=\"text-align: right;\">\n",
              "      <th></th>\n",
              "      <th>Unnamed: 0</th>\n",
              "      <th>created_at</th>\n",
              "      <th>id</th>\n",
              "      <th>id_str</th>\n",
              "      <th>text</th>\n",
              "      <th>truncated</th>\n",
              "      <th>source</th>\n",
              "      <th>in_reply_to_status_id</th>\n",
              "      <th>in_reply_to_status_id_str</th>\n",
              "      <th>in_reply_to_user_id</th>\n",
              "      <th>in_reply_to_user_id_str</th>\n",
              "      <th>in_reply_to_screen_name</th>\n",
              "      <th>geo</th>\n",
              "      <th>coordinates</th>\n",
              "      <th>place</th>\n",
              "      <th>contributors</th>\n",
              "      <th>is_quote_status</th>\n",
              "      <th>retweet_count</th>\n",
              "      <th>favorite_count</th>\n",
              "      <th>favorited</th>\n",
              "      <th>retweeted</th>\n",
              "      <th>possibly_sensitive</th>\n",
              "      <th>lang</th>\n",
              "      <th>entities.hashtags</th>\n",
              "      <th>entities.symbols</th>\n",
              "      <th>entities.user_mentions</th>\n",
              "      <th>entities.urls</th>\n",
              "      <th>entities.media</th>\n",
              "      <th>extended_entities.media</th>\n",
              "      <th>metadata.result_type</th>\n",
              "      <th>metadata.iso_language_code</th>\n",
              "      <th>user.id</th>\n",
              "      <th>user.id_str</th>\n",
              "      <th>user.name</th>\n",
              "      <th>user.screen_name</th>\n",
              "      <th>user.location</th>\n",
              "      <th>user.description</th>\n",
              "      <th>user.url</th>\n",
              "      <th>user.entities.description.urls</th>\n",
              "      <th>user.protected</th>\n",
              "      <th>...</th>\n",
              "      <th>retweeted_status.quoted_status.user.profile_image_url</th>\n",
              "      <th>retweeted_status.quoted_status.user.profile_image_url_https</th>\n",
              "      <th>retweeted_status.quoted_status.user.profile_banner_url</th>\n",
              "      <th>retweeted_status.quoted_status.user.profile_link_color</th>\n",
              "      <th>retweeted_status.quoted_status.user.profile_sidebar_border_color</th>\n",
              "      <th>retweeted_status.quoted_status.user.profile_sidebar_fill_color</th>\n",
              "      <th>retweeted_status.quoted_status.user.profile_text_color</th>\n",
              "      <th>retweeted_status.quoted_status.user.profile_use_background_image</th>\n",
              "      <th>retweeted_status.quoted_status.user.has_extended_profile</th>\n",
              "      <th>retweeted_status.quoted_status.user.default_profile</th>\n",
              "      <th>retweeted_status.quoted_status.user.default_profile_image</th>\n",
              "      <th>retweeted_status.quoted_status.user.following</th>\n",
              "      <th>retweeted_status.quoted_status.user.follow_request_sent</th>\n",
              "      <th>retweeted_status.quoted_status.user.notifications</th>\n",
              "      <th>retweeted_status.quoted_status.user.translator_type</th>\n",
              "      <th>retweeted_status.quoted_status.user.withheld_in_countries</th>\n",
              "      <th>retweeted_status.quoted_status.geo</th>\n",
              "      <th>retweeted_status.quoted_status.coordinates</th>\n",
              "      <th>retweeted_status.quoted_status.place</th>\n",
              "      <th>retweeted_status.quoted_status.contributors</th>\n",
              "      <th>retweeted_status.quoted_status.is_quote_status</th>\n",
              "      <th>retweeted_status.quoted_status.quoted_status_id</th>\n",
              "      <th>retweeted_status.quoted_status.quoted_status_id_str</th>\n",
              "      <th>retweeted_status.quoted_status.retweet_count</th>\n",
              "      <th>retweeted_status.quoted_status.favorite_count</th>\n",
              "      <th>retweeted_status.quoted_status.favorited</th>\n",
              "      <th>retweeted_status.quoted_status.retweeted</th>\n",
              "      <th>retweeted_status.quoted_status.possibly_sensitive</th>\n",
              "      <th>retweeted_status.quoted_status.lang</th>\n",
              "      <th>retweeted_status.quoted_status.user.entities.url.urls</th>\n",
              "      <th>place.id</th>\n",
              "      <th>place.url</th>\n",
              "      <th>place.place_type</th>\n",
              "      <th>place.name</th>\n",
              "      <th>place.full_name</th>\n",
              "      <th>place.country_code</th>\n",
              "      <th>place.country</th>\n",
              "      <th>place.contained_within</th>\n",
              "      <th>place.bounding_box.type</th>\n",
              "      <th>place.bounding_box.coordinates</th>\n",
              "    </tr>\n",
              "  </thead>\n",
              "  <tbody>\n",
              "  </tbody>\n",
              "</table>\n",
              "<p>0 rows × 239 columns</p>\n",
              "</div>"
            ],
            "text/plain": [
              "Empty DataFrame\n",
              "Columns: [Unnamed: 0, created_at, id, id_str, text, truncated, source, in_reply_to_status_id, in_reply_to_status_id_str, in_reply_to_user_id, in_reply_to_user_id_str, in_reply_to_screen_name, geo, coordinates, place, contributors, is_quote_status, retweet_count, favorite_count, favorited, retweeted, possibly_sensitive, lang, entities.hashtags, entities.symbols, entities.user_mentions, entities.urls, entities.media, extended_entities.media, metadata.result_type, metadata.iso_language_code, user.id, user.id_str, user.name, user.screen_name, user.location, user.description, user.url, user.entities.description.urls, user.protected, user.followers_count, user.friends_count, user.listed_count, user.created_at, user.favourites_count, user.utc_offset, user.time_zone, user.geo_enabled, user.verified, user.statuses_count, user.lang, user.contributors_enabled, user.is_translator, user.is_translation_enabled, user.profile_background_color, user.profile_background_image_url, user.profile_background_image_url_https, user.profile_background_tile, user.profile_image_url, user.profile_image_url_https, user.profile_banner_url, user.profile_link_color, user.profile_sidebar_border_color, user.profile_sidebar_fill_color, user.profile_text_color, user.profile_use_background_image, user.has_extended_profile, user.default_profile, user.default_profile_image, user.following, user.follow_request_sent, user.notifications, user.translator_type, user.withheld_in_countries, retweeted_status.created_at, retweeted_status.id, retweeted_status.id_str, retweeted_status.text, retweeted_status.truncated, retweeted_status.entities.hashtags, retweeted_status.entities.symbols, retweeted_status.entities.user_mentions, retweeted_status.entities.urls, retweeted_status.entities.media, retweeted_status.extended_entities.media, retweeted_status.metadata.result_type, retweeted_status.metadata.iso_language_code, retweeted_status.source, retweeted_status.in_reply_to_status_id, retweeted_status.in_reply_to_status_id_str, retweeted_status.in_reply_to_user_id, retweeted_status.in_reply_to_user_id_str, retweeted_status.in_reply_to_screen_name, retweeted_status.user.id, retweeted_status.user.id_str, retweeted_status.user.name, retweeted_status.user.screen_name, retweeted_status.user.location, retweeted_status.user.description, retweeted_status.user.url, ...]\n",
              "Index: []\n",
              "\n",
              "[0 rows x 239 columns]"
            ]
          },
          "metadata": {},
          "execution_count": null
        }
      ],
      "metadata": {
        "colab": {
          "background_save": true
        },
        "id": "kvVEZQL4PWPZ",
        "outputId": "625d740e-9f9c-45d0-caa5-b72c38fc5ec2"
      }
    },
    {
      "cell_type": "code",
      "execution_count": null,
      "source": [
        "import matplotlib.pyplot as plt\n",
        "import seaborn as sns\n",
        "plt.figure(figsize = (20, 25))\n",
        "plotnumber = 1\n",
        "for column in tweets_data:\n",
        "    if plotnumber <= 9:\n",
        "        ax = plt.subplot(3, 3, plotnumber)\n",
        "        sns.distplot(tweets_data[column])\n",
        "        plt.xlabel(column, fontsize = 15)\n",
        "        \n",
        "    plotnumber += 1\n",
        "plt.show()"
      ],
      "outputs": [
        {
          "output_type": "stream",
          "name": "stderr",
          "text": [
            "/usr/local/lib/python3.7/dist-packages/seaborn/distributions.py:2619: FutureWarning: `distplot` is a deprecated function and will be removed in a future version. Please adapt your code to use either `displot` (a figure-level function with similar flexibility) or `histplot` (an axes-level function for histograms).\n",
            "  warnings.warn(msg, FutureWarning)\n",
            "/usr/local/lib/python3.7/dist-packages/seaborn/distributions.py:2657: RuntimeWarning: Mean of empty slice.\n",
            "  line, = ax.plot(a.mean(), 0)\n",
            "/usr/local/lib/python3.7/dist-packages/numpy/core/_methods.py:170: RuntimeWarning: invalid value encountered in double_scalars\n",
            "  ret = ret.dtype.type(ret / rcount)\n",
            "/usr/local/lib/python3.7/dist-packages/numpy/lib/histograms.py:905: RuntimeWarning: invalid value encountered in true_divide\n",
            "  return n/db/n.sum(), bin_edges\n"
          ]
        },
        {
          "output_type": "display_data",
          "data": {
            "image/png": "[encoded data removed]",
            "text/plain": [
              "<Figure size 1440x1800 with 9 Axes>"
            ]
          },
          "metadata": {}
        }
      ],
      "metadata": {
        "colab": {
          "background_save": true
        },
        "id": "tiYcsanLPWLa",
        "outputId": "7bda068e-c168-47eb-92ff-5f05d19ac409"
      }
    },
    {
      "cell_type": "code",
      "execution_count": null,
      "source": [
        "tweets_datafeatures = ['created_at', 'text', 'geo']"
      ],
      "outputs": [],
      "metadata": {
        "colab": {
          "background_save": true
        },
        "id": "S0FWQy5mPWIb"
      }
    },
    {
      "cell_type": "code",
      "execution_count": null,
      "source": [
        "X = tweets_data[tweets_datafeatures]"
      ],
      "outputs": [],
      "metadata": {
        "colab": {
          "background_save": true
        },
        "id": "Ew6xwsebPV98"
      }
    },
    {
      "cell_type": "code",
      "execution_count": null,
      "source": [
        "X.describe"
      ],
      "outputs": [
        {
          "output_type": "execute_result",
          "data": {
            "text/plain": [
              "<bound method NDFrame.describe of Empty DataFrame\n",
              "Columns: [created_at, text, geo]\n",
              "Index: []>"
            ]
          },
          "metadata": {},
          "execution_count": null
        }
      ],
      "metadata": {
        "colab": {
          "background_save": true
        },
        "id": "cxV9iYeePT8q",
        "outputId": "5918f17d-e278-431b-f68b-ce112df440b0"
      }
    },
    {
      "cell_type": "code",
      "execution_count": null,
      "source": [
        "X.head"
      ],
      "outputs": [
        {
          "output_type": "execute_result",
          "data": {
            "text/plain": [
              "<bound method NDFrame.head of Empty DataFrame\n",
              "Columns: [created_at, text, geo]\n",
              "Index: []>"
            ]
          },
          "metadata": {},
          "execution_count": null
        }
      ],
      "metadata": {
        "colab": {
          "background_save": true
        },
        "id": "-UEjP0TkPT6U",
        "outputId": "78c7ff2a-7058-4562-9557-1c1c3c08f889"
      }
    },
    {
      "cell_type": "code",
      "execution_count": null,
      "source": [
        "from sklearn.tree import DecisionTreeRegressor\n"
      ],
      "outputs": [],
      "metadata": {
        "colab": {
          "background_save": true
        },
        "id": "RtnHLDOyPT4R"
      }
    },
    {
      "cell_type": "code",
      "execution_count": null,
      "source": [
        "tweets_model = DecisionTreeRegressor(random_state = 1)"
      ],
      "outputs": [],
      "metadata": {
        "colab": {
          "background_save": true
        },
        "id": "I5g03oQnPT2C"
      }
    },
    {
      "cell_type": "code",
      "execution_count": null,
      "source": [
        "y = tweets_data.in_reply_to_status_id"
      ],
      "outputs": [],
      "metadata": {
        "colab": {
          "background_save": true
        },
        "id": "-YShGYu2PTz-"
      }
    },
    {
      "cell_type": "code",
      "execution_count": null,
      "source": [
        "tsla = yf.Ticker(\"TSLA\")"
      ],
      "outputs": [],
      "metadata": {
        "colab": {
          "background_save": true
        },
        "id": "lEWDTJfZTWXf"
      }
    },
    {
      "cell_type": "code",
      "execution_count": null,
      "source": [
        "h = tsla.history()"
      ],
      "outputs": [],
      "metadata": {
        "colab": {
          "background_save": true
        },
        "id": "V7u070wTTdF7"
      }
    },
    {
      "cell_type": "code",
      "execution_count": null,
      "source": [
        "tsla.history()"
      ],
      "outputs": [
        {
          "output_type": "execute_result",
          "data": {
            "text/html": [
              "<div>\n",
              "<style scoped>\n",
              "    .dataframe tbody tr th:only-of-type {\n",
              "        vertical-align: middle;\n",
              "    }\n",
              "\n",
              "    .dataframe tbody tr th {\n",
              "        vertical-align: top;\n",
              "    }\n",
              "\n",
              "    .dataframe thead th {\n",
              "        text-align: right;\n",
              "    }\n",
              "</style>\n",
              "<table border=\"1\" class=\"dataframe\">\n",
              "  <thead>\n",
              "    <tr style=\"text-align: right;\">\n",
              "      <th></th>\n",
              "      <th>Open</th>\n",
              "      <th>High</th>\n",
              "      <th>Low</th>\n",
              "      <th>Close</th>\n",
              "      <th>Volume</th>\n",
              "      <th>Dividends</th>\n",
              "      <th>Stock Splits</th>\n",
              "    </tr>\n",
              "    <tr>\n",
              "      <th>Date</th>\n",
              "      <th></th>\n",
              "      <th></th>\n",
              "      <th></th>\n",
              "      <th></th>\n",
              "      <th></th>\n",
              "      <th></th>\n",
              "      <th></th>\n",
              "    </tr>\n",
              "  </thead>\n",
              "  <tbody>\n",
              "    <tr>\n",
              "      <th>2021-11-01</th>\n",
              "      <td>1145.000000</td>\n",
              "      <td>1209.750000</td>\n",
              "      <td>1118.660034</td>\n",
              "      <td>1208.589966</td>\n",
              "      <td>56048700</td>\n",
              "      <td>0</td>\n",
              "      <td>0</td>\n",
              "    </tr>\n",
              "    <tr>\n",
              "      <th>2021-11-02</th>\n",
              "      <td>1159.359985</td>\n",
              "      <td>1208.589966</td>\n",
              "      <td>1146.000000</td>\n",
              "      <td>1172.000000</td>\n",
              "      <td>42737800</td>\n",
              "      <td>0</td>\n",
              "      <td>0</td>\n",
              "    </tr>\n",
              "    <tr>\n",
              "      <th>2021-11-03</th>\n",
              "      <td>1177.329956</td>\n",
              "      <td>1215.390015</td>\n",
              "      <td>1152.619995</td>\n",
              "      <td>1213.859985</td>\n",
              "      <td>34628500</td>\n",
              "      <td>0</td>\n",
              "      <td>0</td>\n",
              "    </tr>\n",
              "    <tr>\n",
              "      <th>2021-11-04</th>\n",
              "      <td>1234.410034</td>\n",
              "      <td>1243.489990</td>\n",
              "      <td>1217.000000</td>\n",
              "      <td>1229.910034</td>\n",
              "      <td>25397400</td>\n",
              "      <td>0</td>\n",
              "      <td>0</td>\n",
              "    </tr>\n",
              "    <tr>\n",
              "      <th>2021-11-05</th>\n",
              "      <td>1228.000000</td>\n",
              "      <td>1239.869995</td>\n",
              "      <td>1208.000000</td>\n",
              "      <td>1222.089966</td>\n",
              "      <td>21579900</td>\n",
              "      <td>0</td>\n",
              "      <td>0</td>\n",
              "    </tr>\n",
              "    <tr>\n",
              "      <th>2021-11-08</th>\n",
              "      <td>1149.790039</td>\n",
              "      <td>1197.000000</td>\n",
              "      <td>1133.000000</td>\n",
              "      <td>1162.939941</td>\n",
              "      <td>33445700</td>\n",
              "      <td>0</td>\n",
              "      <td>0</td>\n",
              "    </tr>\n",
              "    <tr>\n",
              "      <th>2021-11-09</th>\n",
              "      <td>1173.599976</td>\n",
              "      <td>1174.500000</td>\n",
              "      <td>1011.520020</td>\n",
              "      <td>1023.500000</td>\n",
              "      <td>59105800</td>\n",
              "      <td>0</td>\n",
              "      <td>0</td>\n",
              "    </tr>\n",
              "    <tr>\n",
              "      <th>2021-11-10</th>\n",
              "      <td>1010.409973</td>\n",
              "      <td>1078.099976</td>\n",
              "      <td>987.309998</td>\n",
              "      <td>1067.949951</td>\n",
              "      <td>42802700</td>\n",
              "      <td>0</td>\n",
              "      <td>0</td>\n",
              "    </tr>\n",
              "    <tr>\n",
              "      <th>2021-11-11</th>\n",
              "      <td>1102.770020</td>\n",
              "      <td>1104.969971</td>\n",
              "      <td>1054.680054</td>\n",
              "      <td>1063.510010</td>\n",
              "      <td>22396600</td>\n",
              "      <td>0</td>\n",
              "      <td>0</td>\n",
              "    </tr>\n",
              "    <tr>\n",
              "      <th>2021-11-12</th>\n",
              "      <td>1047.500000</td>\n",
              "      <td>1054.500000</td>\n",
              "      <td>1019.200012</td>\n",
              "      <td>1033.420044</td>\n",
              "      <td>25182300</td>\n",
              "      <td>0</td>\n",
              "      <td>0</td>\n",
              "    </tr>\n",
              "    <tr>\n",
              "      <th>2021-11-15</th>\n",
              "      <td>1017.630005</td>\n",
              "      <td>1031.979980</td>\n",
              "      <td>978.599976</td>\n",
              "      <td>1013.390015</td>\n",
              "      <td>34775600</td>\n",
              "      <td>0</td>\n",
              "      <td>0</td>\n",
              "    </tr>\n",
              "    <tr>\n",
              "      <th>2021-11-16</th>\n",
              "      <td>1003.309998</td>\n",
              "      <td>1057.199951</td>\n",
              "      <td>1002.179993</td>\n",
              "      <td>1054.729980</td>\n",
              "      <td>26542400</td>\n",
              "      <td>0</td>\n",
              "      <td>0</td>\n",
              "    </tr>\n",
              "    <tr>\n",
              "      <th>2021-11-17</th>\n",
              "      <td>1063.510010</td>\n",
              "      <td>1119.640015</td>\n",
              "      <td>1055.500000</td>\n",
              "      <td>1089.010010</td>\n",
              "      <td>31445400</td>\n",
              "      <td>0</td>\n",
              "      <td>0</td>\n",
              "    </tr>\n",
              "    <tr>\n",
              "      <th>2021-11-18</th>\n",
              "      <td>1106.550049</td>\n",
              "      <td>1112.000000</td>\n",
              "      <td>1075.020020</td>\n",
              "      <td>1096.380005</td>\n",
              "      <td>20898900</td>\n",
              "      <td>0</td>\n",
              "      <td>0</td>\n",
              "    </tr>\n",
              "    <tr>\n",
              "      <th>2021-11-19</th>\n",
              "      <td>1098.869995</td>\n",
              "      <td>1138.719971</td>\n",
              "      <td>1092.699951</td>\n",
              "      <td>1137.060059</td>\n",
              "      <td>21168000</td>\n",
              "      <td>0</td>\n",
              "      <td>0</td>\n",
              "    </tr>\n",
              "    <tr>\n",
              "      <th>2021-11-22</th>\n",
              "      <td>1162.329956</td>\n",
              "      <td>1201.949951</td>\n",
              "      <td>1132.430054</td>\n",
              "      <td>1156.869995</td>\n",
              "      <td>33072500</td>\n",
              "      <td>0</td>\n",
              "      <td>0</td>\n",
              "    </tr>\n",
              "    <tr>\n",
              "      <th>2021-11-23</th>\n",
              "      <td>1167.510010</td>\n",
              "      <td>1180.500000</td>\n",
              "      <td>1062.699951</td>\n",
              "      <td>1109.030029</td>\n",
              "      <td>36171700</td>\n",
              "      <td>0</td>\n",
              "      <td>0</td>\n",
              "    </tr>\n",
              "    <tr>\n",
              "      <th>2021-11-24</th>\n",
              "      <td>1080.390015</td>\n",
              "      <td>1132.770020</td>\n",
              "      <td>1062.000000</td>\n",
              "      <td>1116.000000</td>\n",
              "      <td>22560200</td>\n",
              "      <td>0</td>\n",
              "      <td>0</td>\n",
              "    </tr>\n",
              "    <tr>\n",
              "      <th>2021-11-26</th>\n",
              "      <td>1099.469971</td>\n",
              "      <td>1108.780029</td>\n",
              "      <td>1081.000000</td>\n",
              "      <td>1081.920044</td>\n",
              "      <td>11680900</td>\n",
              "      <td>0</td>\n",
              "      <td>0</td>\n",
              "    </tr>\n",
              "    <tr>\n",
              "      <th>2021-11-29</th>\n",
              "      <td>1100.989990</td>\n",
              "      <td>1142.670044</td>\n",
              "      <td>1100.189941</td>\n",
              "      <td>1136.989990</td>\n",
              "      <td>19464500</td>\n",
              "      <td>0</td>\n",
              "      <td>0</td>\n",
              "    </tr>\n",
              "    <tr>\n",
              "      <th>2021-11-30</th>\n",
              "      <td>1144.369995</td>\n",
              "      <td>1168.000000</td>\n",
              "      <td>1118.000000</td>\n",
              "      <td>1144.760010</td>\n",
              "      <td>26997400</td>\n",
              "      <td>0</td>\n",
              "      <td>0</td>\n",
              "    </tr>\n",
              "  </tbody>\n",
              "</table>\n",
              "</div>"
            ],
            "text/plain": [
              "                   Open         High  ...  Dividends  Stock Splits\n",
              "Date                                  ...                         \n",
              "2021-11-01  1145.000000  1209.750000  ...          0             0\n",
              "2021-11-02  1159.359985  1208.589966  ...          0             0\n",
              "2021-11-03  1177.329956  1215.390015  ...          0             0\n",
              "2021-11-04  1234.410034  1243.489990  ...          0             0\n",
              "2021-11-05  1228.000000  1239.869995  ...          0             0\n",
              "2021-11-08  1149.790039  1197.000000  ...          0             0\n",
              "2021-11-09  1173.599976  1174.500000  ...          0             0\n",
              "2021-11-10  1010.409973  1078.099976  ...          0             0\n",
              "2021-11-11  1102.770020  1104.969971  ...          0             0\n",
              "2021-11-12  1047.500000  1054.500000  ...          0             0\n",
              "2021-11-15  1017.630005  1031.979980  ...          0             0\n",
              "2021-11-16  1003.309998  1057.199951  ...          0             0\n",
              "2021-11-17  1063.510010  1119.640015  ...          0             0\n",
              "2021-11-18  1106.550049  1112.000000  ...          0             0\n",
              "2021-11-19  1098.869995  1138.719971  ...          0             0\n",
              "2021-11-22  1162.329956  1201.949951  ...          0             0\n",
              "2021-11-23  1167.510010  1180.500000  ...          0             0\n",
              "2021-11-24  1080.390015  1132.770020  ...          0             0\n",
              "2021-11-26  1099.469971  1108.780029  ...          0             0\n",
              "2021-11-29  1100.989990  1142.670044  ...          0             0\n",
              "2021-11-30  1144.369995  1168.000000  ...          0             0\n",
              "\n",
              "[21 rows x 7 columns]"
            ]
          },
          "metadata": {},
          "execution_count": null
        }
      ],
      "metadata": {
        "colab": {
          "background_save": true
        },
        "id": "Xx42XUPLTdDy",
        "outputId": "4da3f059-5670-43af-fcfe-b374fd9a8a96"
      }
    },
    {
      "cell_type": "code",
      "execution_count": null,
      "source": [
        "Y = tsla_history_features = [\"High\"]"
      ],
      "outputs": [],
      "metadata": {
        "colab": {
          "background_save": true
        },
        "id": "Foj1IIX0TdBv"
      }
    },
    {
      "cell_type": "code",
      "execution_count": null,
      "source": [
        "X.shape"
      ],
      "outputs": [
        {
          "output_type": "execute_result",
          "data": {
            "text/plain": [
              "(0, 3)"
            ]
          },
          "metadata": {},
          "execution_count": null
        }
      ],
      "metadata": {
        "colab": {
          "background_save": true
        },
        "id": "yqiMrvEFTc-0",
        "outputId": "25951cfa-5254-443e-9e96-f2c8b7c37ac0"
      }
    },
    {
      "cell_type": "code",
      "execution_count": null,
      "source": [
        "#Y.shape"
      ],
      "outputs": [
        {
          "output_type": "error",
          "ename": "AttributeError",
          "evalue": "ignored",
          "traceback": [
            "\u001b[0;31m---------------------------------------------------------------------------\u001b[0m",
            "\u001b[0;31mAttributeError\u001b[0m                            Traceback (most recent call last)",
            "\u001b[0;32m<ipython-input-57-de29cf719ad1>\u001b[0m in \u001b[0;36m<module>\u001b[0;34m()\u001b[0m\n\u001b[0;32m----> 1\u001b[0;31m \u001b[0mY\u001b[0m\u001b[0;34m.\u001b[0m\u001b[0mshape\u001b[0m\u001b[0;34m\u001b[0m\u001b[0;34m\u001b[0m\u001b[0m\n\u001b[0m",
            "\u001b[0;31mAttributeError\u001b[0m: 'list' object has no attribute 'shape'"
          ]
        }
      ],
      "metadata": {
        "colab": {
          "background_save": true
        },
        "id": "MJd8hp2aTc5w",
        "outputId": "3ce5883c-b17f-496d-9e43-ffadf10f89f1"
      }
    },
    {
      "cell_type": "code",
      "execution_count": null,
      "source": [
        "tweets_model.fit(X,Y)"
      ],
      "outputs": [],
      "metadata": {
        "colab": {
          "background_save": true
        },
        "id": "38nW_SBbPTyL"
      }
    },
    {
      "cell_type": "code",
      "execution_count": null,
      "source": [],
      "outputs": [],
      "metadata": {
        "id": "RObRshYcPTvy"
      }
    },
    {
      "cell_type": "code",
      "execution_count": null,
      "source": [],
      "outputs": [],
      "metadata": {
        "id": "jHH7dskyPTs2"
      }
    },
    {
      "cell_type": "code",
      "execution_count": null,
      "source": [],
      "outputs": [],
      "metadata": {
        "id": "UXWdIdMIPTk9"
      }
    }
  ]
}